{
 "cells": [
  {
   "cell_type": "code",
   "execution_count": 1,
   "metadata": {
    "collapsed": false
   },
   "outputs": [],
   "source": [
    "from artm_experiments import Experiment, Pool, GreedyTopicsFilter\n",
    "from artm import *\n",
    "import glob\n",
    "%load_ext autoreload\n",
    "%autoreload 2"
   ]
  },
  {
   "cell_type": "code",
   "execution_count": 2,
   "metadata": {
    "collapsed": true
   },
   "outputs": [],
   "source": [
    "batch_vectorizer = BatchVectorizer(data_path='kos', data_format='bow_uci', collection_name='kos', target_folder='kos')\n",
    "\n",
    "model_artm = ARTM(num_topics=15,\n",
    "                  scores=[PerplexityScore(name='PerplexityScore',\n",
    "                                               use_unigram_document_model=False,\n",
    "                                               dictionary_name='dictionary')],\n",
    "                  regularizers=[SmoothSparseThetaRegularizer(name='SparseTheta', tau=-0.2)])\n",
    "\n",
    "#model_artm.gather_dictionary(dictionary_target_name='dictionary', \n",
    "#                             data_path='kos', vocab_file_path='vocab.kos.txt')\n",
    "#model_artm.save_dictionary(dictionary_name='dictionary', dictionary_path='kos/dictionary.dict')\n",
    "model_artm.load_dictionary(dictionary_name='dictionary', dictionary_path='kos/dictionary.dict')\n",
    "model_artm.initialize(dictionary_name='dictionary')\n",
    "\n",
    "model_artm.regularizers.add(SmoothSparsePhiRegularizer(name='SparsePhi', tau=-0.2))\n",
    "model_artm.regularizers.add(DecorrelatorPhiRegularizer(name='DecorrelatorPhi', tau=2.5e+5))"
   ]
  },
  {
   "cell_type": "code",
   "execution_count": 3,
   "metadata": {
    "collapsed": false
   },
   "outputs": [
    {
     "name": "stdout",
     "output_type": "stream",
     "text": [
      "Total basic topics: 25\n"
     ]
    }
   ],
   "source": [
    "exp = Experiment([{'model': model_artm, 'factor': 5}], Pool(topics_filter=GreedyTopicsFilter(sigma=5)))\n",
    "exp.load_data('kos')\n",
    "exp.run()"
   ]
  },
  {
   "cell_type": "code",
   "execution_count": 4,
   "metadata": {
    "collapsed": false
   },
   "outputs": [
    {
     "name": "stdout",
     "output_type": "stream",
     "text": [
      "topic0:\n",
      "[u'governor' u'account' u'november' u'electoral' u'house']\n",
      "topic1:\n",
      "[u'primary' u'clark' u'democratic' u'edwards' u'dean']\n",
      "topic2:\n",
      "[u'qaqaa' u'north' u'parecommend' u'labor' u'ticket']\n",
      "topic3:\n",
      "[u'percent' u'polls' u'poll' u'numbers' u'voters']\n",
      "topic4:\n",
      "[u'iraq' u'war' u'saddam' u'iraqi' u'american']\n",
      "topic5:\n",
      "[u'house' u'money' u'million' u'delay' u'committee']\n",
      "topic6:\n",
      "[u'ohio' u'election' u'state' u'states' u'voter']\n",
      "topic7:\n",
      "[u'gop' u'senate' u'republican' u'republicans' u'democrats']\n",
      "topic8:\n",
      "[u'administration' u'white' u'president' u'years' u'jobs']\n",
      "topic9:\n",
      "[u'ads' u'media' u'campaign' u'sunday' u'campaigns']\n",
      "topic10:\n",
      "[u'race' u'state' u'district' u'candidates' u'democrats']\n",
      "topic11:\n",
      "[u'party' u'tax' u'political' u'state' u'court']\n",
      "topic12:\n",
      "[u'troops' u'killed' u'military' u'service' u'guard']\n",
      "topic13:\n",
      "[u'president' u'bushs' u'general' u'speech' u'john']\n",
      "topic14:\n",
      "[u'time' u'people' u'media' u'political' u'national']\n"
     ]
    }
   ],
   "source": [
    "exp.show_next_topics_batch(15)"
   ]
  },
  {
   "cell_type": "code",
   "execution_count": 34,
   "metadata": {
    "collapsed": true
   },
   "outputs": [],
   "source": [
    "exp.save_dataset_to_navigator()"
   ]
  },
  {
   "cell_type": "code",
   "execution_count": 35,
   "metadata": {
    "collapsed": true
   },
   "outputs": [],
   "source": [
    "exp.save_next_topics_batch_ to_navigator(15)"
   ]
  },
  {
   "cell_type": "code",
   "execution_count": null,
   "metadata": {
    "collapsed": true
   },
   "outputs": [],
   "source": [
    "exp.load_assessments_from_navigator()"
   ]
  },
  {
   "cell_type": "code",
   "execution_count": null,
   "metadata": {
    "collapsed": true
   },
   "outputs": [],
   "source": [
    "exp.show_assessments()"
   ]
  }
 ],
 "metadata": {
  "kernelspec": {
   "display_name": "Python 2",
   "language": "python",
   "name": "python2"
  },
  "language_info": {
   "codemirror_mode": {
    "name": "ipython",
    "version": 2
   },
   "file_extension": ".py",
   "mimetype": "text/x-python",
   "name": "python",
   "nbconvert_exporter": "python",
   "pygments_lexer": "ipython2",
   "version": "2.7.11"
  }
 },
 "nbformat": 4,
 "nbformat_minor": 0
}
