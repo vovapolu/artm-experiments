{
 "cells": [
  {
   "cell_type": "code",
   "execution_count": 12,
   "metadata": {
    "collapsed": false
   },
   "outputs": [
    {
     "name": "stdout",
     "output_type": "stream",
     "text": [
      "The autoreload extension is already loaded. To reload it, use:\n",
      "  %reload_ext autoreload\n"
     ]
    }
   ],
   "source": [
    "from artm_experiments import Experiment, Pool, GreedyTopicsFilter\n",
    "from artm import *\n",
    "import glob\n",
    "%load_ext autoreload\n",
    "%autoreload 2"
   ]
  },
  {
   "cell_type": "code",
   "execution_count": 13,
   "metadata": {
    "collapsed": false
   },
   "outputs": [],
   "source": [
    "batch_vectorizer = BatchVectorizer(data_path='', data_format='bow_uci', collection_name='kos', target_folder='kos')\n",
    "\n",
    "model_artm = ARTM(num_topics=15,\n",
    "                  scores=[PerplexityScore(name='PerplexityScore',\n",
    "                                               use_unigram_document_model=False,\n",
    "                                               dictionary_name='dictionary')],\n",
    "                  regularizers=[SmoothSparseThetaRegularizer(name='SparseTheta', tau=-0.2)])\n",
    "\n",
    "#model_artm.gather_dictionary(dictionary_target_name='dictionary', \n",
    "#                             data_path='kos', vocab_file_path='vocab.kos.txt')\n",
    "#model_artm.save_dictionary(dictionary_name='dictionary', dictionary_path='kos/dictionary.dict')\n",
    "model_artm.load_dictionary(dictionary_name='dictionary', dictionary_path='kos/dictionary.dict')\n",
    "model_artm.initialize(dictionary_name='dictionary')\n",
    "\n",
    "model_artm.regularizers.add(SmoothSparsePhiRegularizer(name='SparsePhi', tau=-0.2))\n",
    "model_artm.regularizers.add(DecorrelatorPhiRegularizer(name='DecorrelatorPhi', tau=2.5e+5))"
   ]
  },
  {
   "cell_type": "code",
   "execution_count": 25,
   "metadata": {
    "collapsed": false,
    "scrolled": false
   },
   "outputs": [
    {
     "name": "stdout",
     "output_type": "stream",
     "text": [
      "Total basic topics: 15\n"
     ]
    }
   ],
   "source": [
    "exp = Experiment([{'model': model_artm, 'factor': 5}], Pool(topics_filter=GreedyTopicsFilter(sigma=5)))\n",
    "exp.load_data('kos')\n",
    "exp.run()"
   ]
  },
  {
   "cell_type": "code",
   "execution_count": 26,
   "metadata": {
    "collapsed": false
   },
   "outputs": [
    {
     "name": "stdout",
     "output_type": "stream",
     "text": [
      "topic0:\n",
      "[u'governor' u'electoral' u'account' u'november' u'house']\n",
      "topic1:\n",
      "[u'dean' u'edwards' u'clark' u'primary' u'democratic']\n",
      "topic2:\n",
      "[u'qaqaa' u'parecommend' u'labor' u'ticket' u'north']\n",
      "topic3:\n",
      "[u'voters' u'poll' u'polls' u'percent' u'results']\n",
      "topic4:\n",
      "[u'iraq' u'war' u'iraqi' u'american' u'saddam']\n",
      "topic5:\n",
      "[u'republicans' u'senate' u'republican' u'gop' u'democrats']\n",
      "topic6:\n",
      "[u'white' u'president' u'jobs' u'administration' u'years']\n",
      "topic7:\n",
      "[u'sunday' u'campaign' u'media' u'ads' u'news']\n",
      "topic8:\n",
      "[u'house' u'delay' u'committee' u'money' u'million']\n",
      "topic9:\n",
      "[u'election' u'state' u'states' u'ohio' u'voter']\n",
      "topic10:\n",
      "[u'democrats' u'race' u'candidates' u'state' u'district']\n",
      "topic11:\n",
      "[u'political' u'party' u'tax' u'issue' u'vote']\n",
      "topic12:\n",
      "[u'military' u'service' u'national' u'white' u'guard']\n",
      "topic13:\n",
      "[u'john' u'president' u'general' u'bushs' u'speech']\n",
      "topic14:\n",
      "[u'political' u'people' u'time' u'media' u'news']\n"
     ]
    }
   ],
   "source": [
    "exp.show_next_topics_batch(15)"
   ]
  },
  {
   "cell_type": "code",
   "execution_count": 28,
   "metadata": {
    "collapsed": true
   },
   "outputs": [],
   "source": [
    "exp.save_dataset_to_navigator()"
   ]
  },
  {
   "cell_type": "code",
   "execution_count": 29,
   "metadata": {
    "collapsed": true
   },
   "outputs": [],
   "source": [
    "exp.save_next_topics_to_navigator()"
   ]
  }
 ],
 "metadata": {
  "kernelspec": {
   "display_name": "Python 2",
   "language": "python",
   "name": "python2"
  },
  "language_info": {
   "codemirror_mode": {
    "name": "ipython",
    "version": 2
   },
   "file_extension": ".py",
   "mimetype": "text/x-python",
   "name": "python",
   "nbconvert_exporter": "python",
   "pygments_lexer": "ipython2",
   "version": "2.7.11"
  }
 },
 "nbformat": 4,
 "nbformat_minor": 0
}
