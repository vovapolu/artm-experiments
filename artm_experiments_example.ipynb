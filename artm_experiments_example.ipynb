{
 "cells": [
  {
   "cell_type": "code",
   "execution_count": 1,
   "metadata": {
    "collapsed": false
   },
   "outputs": [
    {
     "name": "stdout",
     "output_type": "stream",
     "text": [
      "Populating the interactive namespace from numpy and matplotlib\n"
     ]
    },
    {
     "name": "stderr",
     "output_type": "stream",
     "text": [
      "/opt/anaconda/lib/python2.7/site-packages/matplotlib/font_manager.py:273: UserWarning: Matplotlib is building the font cache using fc-list. This may take a moment.\n",
      "  warnings.warn('Matplotlib is building the font cache using fc-list. This may take a moment.')\n"
     ]
    }
   ],
   "source": [
    "from artm_experiments import Experiment, Pool, GreedyTopicsFilter, ConvexHullTopicsFilter, OptimizationTopicsFilter\n",
    "from artm import *\n",
    "import glob\n",
    "%pylab inline\n",
    "%load_ext autoreload\n",
    "%autoreload 2"
   ]
  },
  {
   "cell_type": "code",
   "execution_count": 2,
   "metadata": {
    "collapsed": false
   },
   "outputs": [],
   "source": [
    "batch_vectorizer = BatchVectorizer(data_path='kos', data_format='batches')\n",
    "\n",
    "def create_model():\n",
    "    model_artm = ARTM(num_topics=50,\n",
    "                      scores=[PerplexityScore(name='PerplexityScore',\n",
    "                                              use_unigram_document_model=False,\n",
    "                                              dictionary_name='dictionary')],\n",
    "                      regularizers=[SmoothSparseThetaRegularizer(name='SparseTheta', tau=-0.2),\n",
    "                                    DecorrelatorPhiRegularizer(name='DecorrelatorPhi', tau=2.5e+5)])\n",
    "\n",
    "    #model_artm.gather_dictionary(dictionary_target_name='dictionary', \n",
    "    #                             data_path='kos', vocab_file_path='vocab.kos.txt')\n",
    "    #model_artm.save_dictionary(dictionary_name='dictionary', dictionary_path='kos/dictionary.dict')\n",
    "    model_artm.load_dictionary(dictionary_name='dictionary', dictionary_path='kos/dictionary.dict')\n",
    "    model_artm.initialize(dictionary_name='dictionary', seed=np.random.randint(1000000))\n",
    "\n",
    "    return model_artm"
   ]
  },
  {
   "cell_type": "code",
   "execution_count": 3,
   "metadata": {
    "collapsed": true
   },
   "outputs": [],
   "source": [
    "def display_points(phi):\n",
    "    points = ConvexHullTopicsFilter.project_points(phi.as_matrix().T, dim=2)\n",
    "    fig = plt.figure()\n",
    "    ax = fig.add_subplot(111)\n",
    "    ax.plot(points[:, 0], points[:, 1], marker='o', ls='')\n",
    "    for i in xrange(phi.shape[1]):\n",
    "        ax.annotate(phi.columns[i], xy=points[i], textcoords='offset points')\n",
    "        \n",
    "    plt.show()\n",
    "    \n",
    "def save_hist(vals, bins, filename):\n",
    "    bins = (bins[:-1] + bins[1:]) / 2.0\n",
    "    np.savetxt(filename, np.vstack((bins, vals)).T, delimiter=',')"
   ]
  },
  {
   "cell_type": "code",
   "execution_count": 4,
   "metadata": {
    "collapsed": false,
    "scrolled": true
   },
   "outputs": [
    {
     "data": {
      "image/png": "[encoded data removed]",
      "text/plain": [
       "<matplotlib.figure.Figure at 0x7f4e0751dbd0>"
      ]
     },
     "metadata": {},
     "output_type": "display_data"
    },
    {
     "name": "stdout",
     "output_type": "stream",
     "text": [
      "50\n"
     ]
    },
    {
     "data": {
      "image/png": "[encoded data removed]",
      "text/plain": [
       "<matplotlib.figure.Figure at 0x7f4dffa9a650>"
      ]
     },
     "metadata": {},
     "output_type": "display_data"
    },
    {
     "name": "stdout",
     "output_type": "stream",
     "text": [
      "98\n"
     ]
    },
    {
     "data": {
      "image/png": "[encoded data removed]",
      "text/plain": [
       "<matplotlib.figure.Figure at 0x7f4e0422cad0>"
      ]
     },
     "metadata": {},
     "output_type": "display_data"
    },
    {
     "name": "stdout",
     "output_type": "stream",
     "text": [
      "146\n"
     ]
    },
    {
     "data": {
      "image/png": "[encoded data removed]",
      "text/plain": [
       "<matplotlib.figure.Figure at 0x7f4e380ee1d0>"
      ]
     },
     "metadata": {},
     "output_type": "display_data"
    },
    {
     "name": "stdout",
     "output_type": "stream",
     "text": [
      "194\n"
     ]
    },
    {
     "ename": "KeyboardInterrupt",
     "evalue": "",
     "output_type": "error",
     "traceback": [
      "\u001b[1;31m---------------------------------------------------------------------------\u001b[0m",
      "\u001b[1;31mKeyboardInterrupt\u001b[0m                         Traceback (most recent call last)",
      "\u001b[1;32m<ipython-input-4-f14f06cdf5d8>\u001b[0m in \u001b[0;36m<module>\u001b[1;34m()\u001b[0m\n\u001b[0;32m      5\u001b[0m     \u001b[0mmodel_artm\u001b[0m\u001b[1;33m.\u001b[0m\u001b[0mfit_offline\u001b[0m\u001b[1;33m(\u001b[0m\u001b[0mbatch_vectorizer\u001b[0m\u001b[1;33m=\u001b[0m\u001b[0mbatch_vectorizer\u001b[0m\u001b[1;33m,\u001b[0m \u001b[0mnum_collection_passes\u001b[0m\u001b[1;33m=\u001b[0m\u001b[1;36m15\u001b[0m\u001b[1;33m,\u001b[0m \u001b[0mnum_document_passes\u001b[0m\u001b[1;33m=\u001b[0m\u001b[1;36m1\u001b[0m\u001b[1;33m)\u001b[0m\u001b[1;33m\u001b[0m\u001b[0m\n\u001b[0;32m      6\u001b[0m     \u001b[1;31m#display_points(model_artm.get_phi())\u001b[0m\u001b[1;33m\u001b[0m\u001b[1;33m\u001b[0m\u001b[0m\n\u001b[1;32m----> 7\u001b[1;33m     \u001b[0mexp\u001b[0m\u001b[1;33m.\u001b[0m\u001b[0mcollect_topics\u001b[0m\u001b[1;33m(\u001b[0m\u001b[0mmodel_artm\u001b[0m\u001b[1;33m.\u001b[0m\u001b[0mget_phi\u001b[0m\u001b[1;33m(\u001b[0m\u001b[1;33m)\u001b[0m\u001b[1;33m,\u001b[0m \u001b[0mmodel_artm\u001b[0m\u001b[1;33m.\u001b[0m\u001b[0mget_theta\u001b[0m\u001b[1;33m(\u001b[0m\u001b[1;33m)\u001b[0m\u001b[1;33m)\u001b[0m\u001b[1;33m\u001b[0m\u001b[0m\n\u001b[0m\u001b[0;32m      8\u001b[0m     \u001b[0mvals\u001b[0m\u001b[1;33m,\u001b[0m \u001b[0mbins\u001b[0m \u001b[1;33m=\u001b[0m \u001b[0mexp\u001b[0m\u001b[1;33m.\u001b[0m\u001b[0mtopics_pool\u001b[0m\u001b[1;33m.\u001b[0m\u001b[0mtopics_filter\u001b[0m\u001b[1;33m.\u001b[0m\u001b[0mplot_hist\u001b[0m\u001b[1;33m(\u001b[0m\u001b[1;33m)\u001b[0m\u001b[1;33m\u001b[0m\u001b[0m\n\u001b[0;32m      9\u001b[0m     \u001b[0msave_hist\u001b[0m\u001b[1;33m(\u001b[0m\u001b[0mvals\u001b[0m\u001b[1;33m,\u001b[0m \u001b[0mbins\u001b[0m\u001b[1;33m,\u001b[0m \u001b[1;34m\"data_iter_{}.csv\"\u001b[0m\u001b[1;33m.\u001b[0m\u001b[0mformat\u001b[0m\u001b[1;33m(\u001b[0m\u001b[0mi\u001b[0m\u001b[1;33m)\u001b[0m\u001b[1;33m)\u001b[0m\u001b[1;33m\u001b[0m\u001b[0m\n",
      "\u001b[1;32m/home/vovapolu/Projects/Other/ArtmExperiments/artm_experiments.pyc\u001b[0m in \u001b[0;36mcollect_topics\u001b[1;34m(self, phi, theta)\u001b[0m\n\u001b[0;32m    147\u001b[0m \u001b[1;33m\u001b[0m\u001b[0m\n\u001b[0;32m    148\u001b[0m     \u001b[1;32mdef\u001b[0m \u001b[0mcollect_topics\u001b[0m\u001b[1;33m(\u001b[0m\u001b[0mself\u001b[0m\u001b[1;33m,\u001b[0m \u001b[0mphi\u001b[0m\u001b[1;33m,\u001b[0m \u001b[0mtheta\u001b[0m\u001b[1;33m)\u001b[0m\u001b[1;33m:\u001b[0m\u001b[1;33m\u001b[0m\u001b[0m\n\u001b[1;32m--> 149\u001b[1;33m         \u001b[0mself\u001b[0m\u001b[1;33m.\u001b[0m\u001b[0mtopics_pool\u001b[0m\u001b[1;33m.\u001b[0m\u001b[0mcollect_topics\u001b[0m\u001b[1;33m(\u001b[0m\u001b[0mphi\u001b[0m\u001b[1;33m,\u001b[0m \u001b[0mtheta\u001b[0m\u001b[1;33m)\u001b[0m\u001b[1;33m\u001b[0m\u001b[0m\n\u001b[0m\u001b[0;32m    150\u001b[0m \u001b[1;33m\u001b[0m\u001b[0m\n\u001b[0;32m    151\u001b[0m     \u001b[1;32mdef\u001b[0m \u001b[0mrun\u001b[0m\u001b[1;33m(\u001b[0m\u001b[0mself\u001b[0m\u001b[1;33m)\u001b[0m\u001b[1;33m:\u001b[0m\u001b[1;33m\u001b[0m\u001b[0m\n",
      "\u001b[1;32m/home/vovapolu/Projects/Other/ArtmExperiments/artm_experiments.pyc\u001b[0m in \u001b[0;36mcollect_topics\u001b[1;34m(self, phi, theta)\u001b[0m\n\u001b[0;32m     45\u001b[0m                 \u001b[0mself\u001b[0m\u001b[1;33m.\u001b[0m\u001b[0mtheta\u001b[0m \u001b[1;33m=\u001b[0m \u001b[0mpd\u001b[0m\u001b[1;33m.\u001b[0m\u001b[0mconcat\u001b[0m\u001b[1;33m(\u001b[0m\u001b[1;33m[\u001b[0m\u001b[0mself\u001b[0m\u001b[1;33m.\u001b[0m\u001b[0mtheta\u001b[0m\u001b[1;33m,\u001b[0m \u001b[0mtheta\u001b[0m\u001b[1;33m]\u001b[0m\u001b[1;33m)\u001b[0m\u001b[1;33m\u001b[0m\u001b[0m\n\u001b[0;32m     46\u001b[0m \u001b[1;33m\u001b[0m\u001b[0m\n\u001b[1;32m---> 47\u001b[1;33m         \u001b[0mnew_topics\u001b[0m \u001b[1;33m=\u001b[0m \u001b[0mself\u001b[0m\u001b[1;33m.\u001b[0m\u001b[0mtopics_filter\u001b[0m\u001b[1;33m.\u001b[0m\u001b[0mfilter_topics\u001b[0m\u001b[1;33m(\u001b[0m\u001b[0mself\u001b[0m\u001b[1;33m.\u001b[0m\u001b[0mphi\u001b[0m\u001b[1;33m,\u001b[0m \u001b[0mself\u001b[0m\u001b[1;33m.\u001b[0m\u001b[0mtopics\u001b[0m \u001b[1;33m+\u001b[0m \u001b[0mlist\u001b[0m\u001b[1;33m(\u001b[0m\u001b[0mphi\u001b[0m\u001b[1;33m.\u001b[0m\u001b[0mcolumns\u001b[0m\u001b[1;33m)\u001b[0m\u001b[1;33m)\u001b[0m\u001b[1;33m\u001b[0m\u001b[0m\n\u001b[0m\u001b[0;32m     48\u001b[0m \u001b[1;33m\u001b[0m\u001b[0m\n\u001b[0;32m     49\u001b[0m         \u001b[1;32mif\u001b[0m \u001b[1;32mnot\u001b[0m \u001b[0mself\u001b[0m\u001b[1;33m.\u001b[0m\u001b[0msave_topics\u001b[0m\u001b[1;33m:\u001b[0m\u001b[1;33m\u001b[0m\u001b[0m\n",
      "\u001b[1;32m/home/vovapolu/Projects/Other/ArtmExperiments/optimize_methods.pyc\u001b[0m in \u001b[0;36mfilter_topics\u001b[1;34m(self, topics, used_topics)\u001b[0m\n\u001b[0;32m     54\u001b[0m                                                        'jac': lambda w: np.ones(X.shape[1])},\n\u001b[0;32m     55\u001b[0m                                           \u001b[0moptions\u001b[0m\u001b[1;33m=\u001b[0m\u001b[1;33m{\u001b[0m\u001b[1;34m'maxiter'\u001b[0m\u001b[1;33m:\u001b[0m \u001b[1;36m5\u001b[0m\u001b[1;33m}\u001b[0m\u001b[1;33m,\u001b[0m\u001b[1;33m\u001b[0m\u001b[0m\n\u001b[1;32m---> 56\u001b[1;33m                                           tol=1e-3)\n\u001b[0m\u001b[0;32m     57\u001b[0m \u001b[1;33m\u001b[0m\u001b[0m\n\u001b[0;32m     58\u001b[0m             \u001b[0mself\u001b[0m\u001b[1;33m.\u001b[0m\u001b[0mres_vals\u001b[0m\u001b[1;33m[\u001b[0m\u001b[0mtopic\u001b[0m\u001b[1;33m]\u001b[0m \u001b[1;33m=\u001b[0m \u001b[0mres\u001b[0m\u001b[1;33m.\u001b[0m\u001b[0mfun\u001b[0m\u001b[1;33m\u001b[0m\u001b[0m\n",
      "\u001b[1;32m/opt/anaconda/lib/python2.7/site-packages/scipy/optimize/_minimize.pyc\u001b[0m in \u001b[0;36mminimize\u001b[1;34m(fun, x0, args, method, jac, hess, hessp, bounds, constraints, tol, callback, options)\u001b[0m\n\u001b[0;32m    453\u001b[0m     \u001b[1;32melif\u001b[0m \u001b[0mmeth\u001b[0m \u001b[1;33m==\u001b[0m \u001b[1;34m'slsqp'\u001b[0m\u001b[1;33m:\u001b[0m\u001b[1;33m\u001b[0m\u001b[0m\n\u001b[0;32m    454\u001b[0m         return _minimize_slsqp(fun, x0, args, jac, bounds,\n\u001b[1;32m--> 455\u001b[1;33m                                constraints, callback=callback, **options)\n\u001b[0m\u001b[0;32m    456\u001b[0m     \u001b[1;32melif\u001b[0m \u001b[0mmeth\u001b[0m \u001b[1;33m==\u001b[0m \u001b[1;34m'dogleg'\u001b[0m\u001b[1;33m:\u001b[0m\u001b[1;33m\u001b[0m\u001b[0m\n\u001b[0;32m    457\u001b[0m         return _minimize_dogleg(fun, x0, args, jac, hess,\n",
      "\u001b[1;32m/opt/anaconda/lib/python2.7/site-packages/scipy/optimize/slsqp.pyc\u001b[0m in \u001b[0;36m_minimize_slsqp\u001b[1;34m(func, x0, args, jac, bounds, constraints, maxiter, ftol, iprint, disp, eps, callback, **unknown_options)\u001b[0m\n\u001b[0;32m    404\u001b[0m \u001b[1;33m\u001b[0m\u001b[0m\n\u001b[0;32m    405\u001b[0m         \u001b[1;31m# Call SLSQP\u001b[0m\u001b[1;33m\u001b[0m\u001b[1;33m\u001b[0m\u001b[0m\n\u001b[1;32m--> 406\u001b[1;33m         \u001b[0mslsqp\u001b[0m\u001b[1;33m(\u001b[0m\u001b[0mm\u001b[0m\u001b[1;33m,\u001b[0m \u001b[0mmeq\u001b[0m\u001b[1;33m,\u001b[0m \u001b[0mx\u001b[0m\u001b[1;33m,\u001b[0m \u001b[0mxl\u001b[0m\u001b[1;33m,\u001b[0m \u001b[0mxu\u001b[0m\u001b[1;33m,\u001b[0m \u001b[0mfx\u001b[0m\u001b[1;33m,\u001b[0m \u001b[0mc\u001b[0m\u001b[1;33m,\u001b[0m \u001b[0mg\u001b[0m\u001b[1;33m,\u001b[0m \u001b[0ma\u001b[0m\u001b[1;33m,\u001b[0m \u001b[0macc\u001b[0m\u001b[1;33m,\u001b[0m \u001b[0mmajiter\u001b[0m\u001b[1;33m,\u001b[0m \u001b[0mmode\u001b[0m\u001b[1;33m,\u001b[0m \u001b[0mw\u001b[0m\u001b[1;33m,\u001b[0m \u001b[0mjw\u001b[0m\u001b[1;33m)\u001b[0m\u001b[1;33m\u001b[0m\u001b[0m\n\u001b[0m\u001b[0;32m    407\u001b[0m \u001b[1;33m\u001b[0m\u001b[0m\n\u001b[0;32m    408\u001b[0m         \u001b[1;31m# call callback if major iteration has incremented\u001b[0m\u001b[1;33m\u001b[0m\u001b[1;33m\u001b[0m\u001b[0m\n",
      "\u001b[1;31mKeyboardInterrupt\u001b[0m: "
     ]
    }
   ],
   "source": [
    "exp = Experiment(Pool(topics_filter=OptimizationTopicsFilter(eps=0.4, verbose=False), \n",
    "                      save_topics=True))\n",
    "for i in xrange(10):\n",
    "    model_artm = create_model()\n",
    "    model_artm.fit_offline(batch_vectorizer=batch_vectorizer, num_collection_passes=15, num_document_passes=1)\n",
    "    #display_points(model_artm.get_phi())\n",
    "    exp.collect_topics(model_artm.get_phi(), model_artm.get_theta())\n",
    "    vals, bins = exp.topics_pool.topics_filter.plot_hist()\n",
    "    save_hist(vals, bins, \"data_iter_{}.csv\".format(i))\n",
    "    print exp.topics_pool.get_basic_topics_count()"
   ]
  },
  {
   "cell_type": "code",
   "execution_count": 11,
   "metadata": {
    "collapsed": false,
    "scrolled": true
   },
   "outputs": [
    {
     "data": {
      "image/png": "[encoded data removed]",
      "text/plain": [
       "<matplotlib.figure.Figure at 0x7fe7849dd790>"
      ]
     },
     "metadata": {},
     "output_type": "display_data"
    },
    {
     "name": "stdout",
     "output_type": "stream",
     "text": [
      "50\n"
     ]
    },
    {
     "data": {
      "image/png": "[encoded data removed]",
      "text/plain": [
       "<matplotlib.figure.Figure at 0x7fe7845b7690>"
      ]
     },
     "metadata": {},
     "output_type": "display_data"
    },
    {
     "name": "stdout",
     "output_type": "stream",
     "text": [
      "93\n"
     ]
    },
    {
     "data": {
      "image/png": "[encoded data removed]",
      "text/plain": [
       "<matplotlib.figure.Figure at 0x7fe7845a2c50>"
      ]
     },
     "metadata": {},
     "output_type": "display_data"
    },
    {
     "name": "stdout",
     "output_type": "stream",
     "text": [
      "132\n"
     ]
    },
    {
     "data": {
      "image/png": "[encoded data removed]",
      "text/plain": [
       "<matplotlib.figure.Figure at 0x7fe784c4d350>"
      ]
     },
     "metadata": {},
     "output_type": "display_data"
    },
    {
     "name": "stdout",
     "output_type": "stream",
     "text": [
      "165\n"
     ]
    },
    {
     "data": {
      "image/png": "[encoded data removed]",
      "text/plain": [
       "<matplotlib.figure.Figure at 0x7fe7842ecc50>"
      ]
     },
     "metadata": {},
     "output_type": "display_data"
    },
    {
     "name": "stdout",
     "output_type": "stream",
     "text": [
      "198\n"
     ]
    },
    {
     "data": {
      "image/png": "[encoded data removed]",
      "text/plain": [
       "<matplotlib.figure.Figure at 0x7fe786090b50>"
      ]
     },
     "metadata": {},
     "output_type": "display_data"
    },
    {
     "name": "stdout",
     "output_type": "stream",
     "text": [
      "227\n"
     ]
    },
    {
     "data": {
      "image/png": "[encoded data removed]",
      "text/plain": [
       "<matplotlib.figure.Figure at 0x7fe785416250>"
      ]
     },
     "metadata": {},
     "output_type": "display_data"
    },
    {
     "name": "stdout",
     "output_type": "stream",
     "text": [
      "259\n"
     ]
    },
    {
     "data": {
      "image/png": "[encoded data removed]",
      "text/plain": [
       "<matplotlib.figure.Figure at 0x7fe7842f6810>"
      ]
     },
     "metadata": {},
     "output_type": "display_data"
    },
    {
     "name": "stdout",
     "output_type": "stream",
     "text": [
      "290\n"
     ]
    },
    {
     "data": {
      "image/png": "[encoded data removed]",
      "text/plain": [
       "<matplotlib.figure.Figure at 0x7fe785cbb9d0>"
      ]
     },
     "metadata": {},
     "output_type": "display_data"
    },
    {
     "name": "stdout",
     "output_type": "stream",
     "text": [
      "313\n"
     ]
    },
    {
     "data": {
      "image/png": "[encoded data removed]",
      "text/plain": [
       "<matplotlib.figure.Figure at 0x7fe7862ae190>"
      ]
     },
     "metadata": {},
     "output_type": "display_data"
    },
    {
     "name": "stdout",
     "output_type": "stream",
     "text": [
      "334\n"
     ]
    }
   ],
   "source": [
    "exp = Experiment(Pool(topics_filter=OptimizationTopicsFilter(eps=0.6, verbose=False), \n",
    "                      save_topics=True))\n",
    "for i in xrange(10):\n",
    "    model_artm = create_model()\n",
    "    model_artm.fit_offline(batch_vectorizer=batch_vectorizer, num_collection_passes=15, num_document_passes=1)\n",
    "    #display_points(model_artm.get_phi())\n",
    "    exp.collect_topics(model_artm.get_phi(), model_artm.get_theta())\n",
    "    vals, bins = exp.topics_pool.topics_filter.plot_hist()\n",
    "    save_hist(vals, bins, \"data06_iter_{}.csv\".format(i))\n",
    "    print exp.topics_pool.get_basic_topics_count()"
   ]
  },
  {
   "cell_type": "code",
   "execution_count": 12,
   "metadata": {
    "collapsed": false
   },
   "outputs": [
    {
     "name": "stdout",
     "output_type": "stream",
     "text": [
      "topic158 | [u'signatures' u'camp' u'naders' u'nevada' u'independents']\n",
      "topic65 | [u'residents' u'ruling' u'schwarzenegger' u'samesex' u'couples']\n",
      "topic275 | [u'flag' u'detainees' u'rumsfelds' u'chain' u'geneva']\n",
      "topic231 | [u'approve' u'disapprove' u'lawnorder' u'handling' u'surgery']\n",
      "topic337 | [u'wrote' u'serve' u'makes' u'club' u'stations']\n",
      "topic194 | [u'ndn' u'rally' u'soft' u'dlc' u'meetup']\n",
      "topic311 | [u'resistance' u'desperate' u'husseins' u'mosque' u'falluja']\n",
      "topic345 | [u'arabia' u'liberals' u'relief' u'frame' u'viewers']\n",
      "topic32 | [u'jun' u'signatures' u'advice' u'murphy' u'legislation']\n",
      "topic156 | [u'bartlett' u'adams' u'dumb' u'spains' u'flops']\n",
      "topic391 | [u'congressman' u'diedrich' u'map' u'kerryedwards' u'schrader']\n",
      "topic114 | [u'panel' u'gun' u'iran' u'adviser' u'cheneys']\n",
      "topic263 | [u'system' u'health' u'veterans' u'costs' u'children']\n",
      "topic438 | [u'urban' u'incomes' u'cnnusa' u'hour' u'offense']\n",
      "topic357 | [u'thoughts' u'activities' u'perspective' u'imagine' u'organizing']\n",
      "topic351 | [u'books' u'indictment' u'indicted' u'oneill' u'earle']\n",
      "topic151 | [u'counterterrorism' u'fighters' u'reconstruction' u'postwar' u'saleh']\n",
      "topic449 | [u'filed' u'activities' u'activity' u'naders' u'insurance']\n",
      "topic128 | [u'moines' u'complaint' u'iowans' u'bus' u'event']\n",
      "topic492 | [u'radio' u'youll' u'rnc' u'stations' u'blogosphere']\n",
      "topic203 | [u'ideological' u'heck' u'brad' u'stations' u'oksen']\n",
      "topic104 | [u'signed' u'smith' u'faces' u'pelosi' u'credibility']\n",
      "topic43 | [u'apology' u'played' u'fletcher' u'music' u'blitz']\n",
      "topic239 | [u'deal' u'survey' u'personal' u'jun' u'fall']\n",
      "topic384 | [u'utah' u'matheson' u'hyde' u'anemic' u'vet']\n",
      "topic354 | [u'rogers' u'mcgreevey' u'indian' u'sdal' u'gerlach']\n",
      "topic197 | [u'targetting' u'narrow' u'thune' u'schneider' u'masondixon']\n",
      "topic382 | [u'congressional' u'means' u'sharpton' u'january' u'advantage']\n",
      "topic212 | [u'testimony' u'clarke' u'fbi' u'counterterrorism' u'investigating']\n",
      "topic414 | [u'responsible' u'ignore' u'torture' u'donald' u'quote']\n",
      "topic487 | [u'map' u'average' u'alternative' u'hall' u'alabama']\n",
      "topic296 | [u'channel' u'sinclair' u'stronger' u'chicago' u'portland']\n",
      "topic113 | [u'mcgreevey' u'climate' u'norquist' u'guantanamo' u'mercenaries']\n",
      "topic397 | [u'tied' u'bounce' u'rnc' u'rating' u'approval']\n",
      "topic200 | [u'honorable' u'verified' u'discharge' u'wage' u'award']\n",
      "topic365 | [u'food' u'iran' u'regime' u'nuclear' u'korea']\n",
      "topic406 | [u'fallujah' u'marine' u'gen' u'commander' u'marines']\n",
      "topic299 | [u'meetup' u'enron' u'hart' u'slot' u'pataki']\n",
      "topic302 | [u'service' u'guard' u'records' u'rice' u'duty']\n",
      "topic193 | [u'rnc' u'rasmussen' u'chandler' u'ralph' u'error']\n",
      "topic333 | [u'foe' u'straw' u'cats' u'depends' u'object']\n",
      "topic211 | [u'traffic' u'alexander' u'stork' u'matching' u'donate']\n",
      "topic56 | [u'appeared' u'analysts' u'signed' u'agents' u'protesters']\n",
      "topic443 | [u'breaking' u'huge' u'age' u'consistently' u'leaners']\n",
      "topic314 | [u'kysen' u'employers' u'satellite' u'crew' u'bunnings']\n",
      "topic399 | [u'flight' u'minds' u'hearing' u'murkowski' u'lisa']\n",
      "topic416 | [u'aflcio' u'commerce' u'loyalty' u'martinez' u'thurlow']\n",
      "topic241 | [u'surprised' u'scientists' u'planet' u'possibility' u'researchers']\n",
      "topic37 | [u'grassroots' u'activity' u'boxer' u'dreier' u'simon']\n",
      "topic366 | [u'plays' u'northup' u'blogpac' u'players' u'playing']\n",
      "topic310 | [u'hall' u'boots' u'fahrenheit' u'publication' u'documentary']\n",
      "topic407 | [u'son' u'east' u'flight' u'british' u'interviews']\n",
      "topic301 | [u'editorial' u'plain' u'thomas' u'blanco' u'jindal']\n",
      "topic49 | [u'egon' u'buh' u'luaptifer' u'maximumken' u'nagourney']\n",
      "topic225 | [u'adding' u'advice' u'trippi' u'clean' u'ideas']\n",
      "topic106 | [u'nevada' u'medicare' u'consultants' u'required' u'enron']\n",
      "topic224 | [u'hersh' u'journalism' u'geneva' u'equipment' u'boys']\n",
      "topic164 | [u'deaths' u'talking' u'died' u'fiscal' u'happened']\n",
      "topic140 | [u'affair' u'grand' u'mcauliffe' u'plame' u'identity']\n",
      "topic457 | [u'advice' u'awol' u'carter' u'mine' u'davis']\n",
      "topic493 | [u'gas' u'contracts' u'bullshit' u'appearance' u'womens']\n",
      "topic51 | [u'regions' u'soros' u'stagflation' u'diversity' u'eliminating']\n",
      "topic138 | [u'sdal' u'reynolds' u'drudge' u'verified' u'medal']\n",
      "topic498 | [u'shia' u'struggle' u'calm' u'islamic' u'rarely']\n",
      "topic495 | [u'wage' u'industries' u'payroll' u'rational' u'realitybased']\n",
      "topic81 | [u'mix' u'islam' u'fatalities' u'subsequent' u'nightly']\n",
      "topic418 | [u'environmental' u'industry' u'scientists' u'income' u'gdp']\n",
      "topic189 | [u'cuts' u'missing' u'registrants' u'revenue' u'bradley']\n",
      "topic255 | [u'debt' u'medals' u'earned' u'purple' u'pledge']\n",
      "topic209 | [u'rules' u'activities' u'arabia' u'flu' u'perle']\n",
      "topic381 | [u'face' u'rights' u'coalition' u'forces' u'reporters']\n",
      "topic475 | [u'rep' u'thought' u'talking' u'line' u'remember']\n",
      "topic3 | [u'lawyers' u'legal' u'plame' u'courts' u'networks']\n",
      "topic466 | [u'fraud' u'enron' u'filing' u'rodney' u'luntz']\n",
      "topic316 | [u'agency' u'destruction' u'oil' u'nuclear' u'invasion']\n",
      "topic430 | [u'survey' u'pdf' u'kerryedwards' u'rasmussen' u'tied']\n",
      "topic386 | [u'janklow' u'justice' u'investigations' u'abuses' u'lawyers']\n",
      "topic477 | [u'income' u'costs' u'medicare' u'fiscal' u'agreed']\n",
      "topic361 | [u'feb' u'christopher' u'efforts' u'north' u'protests']\n",
      "topic168 | [u'grand' u'najaf' u'plame' u'mcgreevey' u'stations']\n",
      "topic428 | [u'markets' u'buys' u'principles' u'wall' u'nra']\n",
      "topic130 | [u'doomed' u'fool' u'franken' u'debated' u'fools']\n",
      "topic388 | [u'enemy' u'standards' u'gwb' u'ideals' u'rightwing']\n",
      "topic217 | [u'cap' u'mcentee' u'alqaeda' u'industrial' u'poverty']\n",
      "topic84 | [u'north' u'dakota' u'break' u'seats' u'pickup']\n",
      "topic171 | [u'proud' u'kentucky' u'cash' u'donate' u'reynolds']\n",
      "topic219 | [u'happened' u'destruction' u'blair' u'nuclear' u'explain']\n",
      "topic127 | [u'zogbys' u'usa' u'compete' u'moveon' u'financing']\n",
      "topic42 | [u'kerr' u'prices' u'tnr' u'drudge' u'stirling']\n",
      "topic48 | [u'spot' u'posting' u'award' u'contributors' u'glad']\n",
      "topic496 | [u'schneider' u'kuhl' u'castor' u'martinez' u'holden']\n",
      "topic348 | [u'seats' u'kerryedwards' u'bushcheney' u'districts' u'mongiardo']\n",
      "topic295 | [u'economists' u'deficits' u'rising' u'recovery' u'income']\n",
      "topic80 | [u'indian' u'contracts' u'gwb' u'ceo' u'sharon']\n",
      "topic267 | [u'arizona' u'video' u'approve' u'pulled' u'disapprove']\n",
      "topic6 | [u'trends' u'usa' u'surveyusa' u'arkansas' u'bet']\n",
      "topic405 | [u'thune' u'najaf' u'minority' u'blood' u'ginny']\n",
      "topic401 | [u'guard' u'served' u'records' u'duty' u'ran']\n",
      "topic109 | [u'harris' u'romero' u'wilson' u'schneider' u'retired']\n",
      "topic249 | [u'baseball' u'unfit' u'cubs' u'anticipated' u'excerpts']\n",
      "topic251 | [u'lawyer' u'carry' u'revenue' u'chamber' u'marked']\n",
      "topic67 | [u'coburns' u'tulsa' u'jackson' u'keever' u'taylor']\n",
      "topic326 | [u'cleland' u'emails' u'janklow' u'movie' u'pacs']\n",
      "topic400 | [u'humphreys' u'handling' u'steve' u'foe' u'gilliard']\n",
      "topic135 | [u'institution' u'couples' u'divorce' u'samesex' u'interactive']\n",
      "topic455 | [u'nuclear' u'search' u'gwb' u'predicted' u'perle']\n",
      "topic260 | [u'ethics' u'reporters' u'congressional' u'bunning' u'districts']\n",
      "topic420 | [u'islam' u'indian' u'science' u'bartlett' u'scientific']\n",
      "topic196 | [u'letters' u'personnel' u'iran' u'background' u'arab']\n",
      "topic96 | [u'foes' u'miserable' u'viewing' u'blessed' u'heather']\n",
      "topic304 | [u'mcgreevey' u'martinez' u'capitol' u'quit' u'protest']\n",
      "topic307 | [u'approval' u'ratings' u'bounce' u'favorable' u'arkansas']\n",
      "topic144 | [u'represent' u'samara' u'louisiana' u'blanco' u'kuhl']\n",
      "topic433 | [u'caucus' u'round' u'feb' u'chandler' u'caucuses']\n",
      "topic218 | [u'walmart' u'overtime' u'teachers' u'cops' u'dncs']\n",
      "topic192 | [u'gore' u'congressional' u'leading' u'seats' u'competitive']\n",
      "topic230 | [u'october' u'gallup' u'values' u'compared' u'trends']\n",
      "topic111 | [u'pulled' u'ballots' u'register' u'roots' u'latino']\n",
      "topic12 | [u'honor' u'surgery' u'sinclair' u'oreilly' u'eric']\n",
      "topic74 | [u'rep' u'survey' u'advantage' u'head' u'worth']\n",
      "topic470 | [u'keyes' u'flag' u'alan' u'mcgreevey' u'ilsen']\n",
      "topic258 | [u'unit' u'meant' u'alabama' u'industrial' u'republic']\n",
      "topic125 | [u'trial' u'coffee' u'martinez' u'mcdonalds' u'england']\n",
      "topic458 | [u'congressional' u'amendment' u'rights' u'civil' u'opposition']\n",
      "topic367 | [u'writes' u'host' u'embarrassing' u'walmart' u'sleep']\n",
      "topic15 | [u'massive' u'arabia' u'mcclellan' u'biological' u'wmds']\n",
      "topic489 | [u'testimony' u'plame' u'books' u'cheneys' u'testify']\n",
      "topic409 | [u'deal' u'friday' u'talking' u'similar' u'reporters']\n",
      "topic463 | [u'flu' u'kean' u'surgery' u'qpoll' u'quinnipiac']\n",
      "topic488 | [u'alaska' u'murkowski' u'tony' u'rating' u'soft']\n",
      "topic201 | [u'french' u'traditional' u'france' u'pacs' u'tuition']\n",
      "topic483 | [u'ryan' u'lying' u'liars' u'accusations' u'karen']\n",
      "topic370 | [u'lying' u'reagans' u'torture' u'wall' u'body']\n",
      "topic121 | [u'nationwide' u'kerryedwards' u'catholic' u'prediction' u'confidence']\n",
      "topic344 | [u'unity' u'registrants' u'towns' u'location' u'bradley']\n",
      "topic90 | [u'practice' u'explosives' u'french' u'flu' u'karen']\n",
      "topic429 | [u'airport' u'reynolds' u'borders' u'tariffs' u'steel']\n",
      "topic190 | [u'gallup' u'tied' u'sample' u'tight' u'undecideds']\n",
      "topic120 | [u'servers' u'blessed' u'oceana' u'species' u'conservatism']\n",
      "topic0 | [u'accounting' u'connections' u'leaks' u'promising' u'limited']\n",
      "topic419 | [u'losses' u'estimate' u'wearing' u'luntz' u'foster']\n",
      "topic464 | [u'pollster' u'rasmussen' u'independents' u'tied' u'undecideds']\n",
      "topic162 | [u'finish' u'momentum' u'parenthesis' u'clarks' u'age']\n",
      "topic68 | [u'click' u'ryan' u'enlarge' u'crane' u'chandlers']\n",
      "topic334 | [u'individual' u'aircraft' u'lists' u'korea' u'berg']\n",
      "topic55 | [u'counties' u'registration' u'registrations' u'acceptance' u'forms']\n",
      "topic294 | [u'hardball' u'sproul' u'reynolds' u'allen' u'sweat']\n",
      "topic380 | [u'aflcio' u'industrial' u'enforcement' u'bureau' u'sharon']\n",
      "topic327 | [u'starts' u'relations' u'stirling' u'walmart' u'cuban']\n",
      "topic499 | [u'serving' u'sacrifice' u'accused' u'medals' u'vacation']\n",
      "topic221 | [u'sharon' u'condition' u'missile' u'anonymity' u'aircraft']\n",
      "topic157 | [u'means' u'fallujah' u'forces' u'occupation' u'command']\n",
      "topic472 | [u'abc' u'adviser' u'rice' u'edition' u'veep']\n",
      "topic60 | [u'photo' u'hoeffel' u'save' u'club' u'electorate']\n",
      "topic22 | [u'constitutional' u'mate' u'banning' u'aircraft' u'mcdonalds']\n",
      "topic440 | [u'testify' u'wilson' u'counterterrorism' u'subpoenas' u'ranch']\n",
      "topic108 | [u'guests' u'pat' u'seiu' u'aflcio' u'chuck']\n",
      "topic479 | [u'laden' u'osama' u'escape' u'pakistan' u'arabia']\n",
      "topic206 | [u'records' u'guard' u'moment' u'cbs' u'worth']\n",
      "topic437 | [u'virginia' u'des' u'moines' u'population' u'optimistic']\n",
      "topic376 | [u'email' u'dkos' u'morrison' u'quarter' u'farmer']\n",
      "topic150 | [u'divorce' u'bureau' u'catholics' u'posting' u'outraged']\n",
      "topic10 | [u'coburns' u'oksen' u'gotv' u'flag' u'tulsa']\n",
      "topic124 | [u'gore' u'trend' u'undecided' u'congressional' u'seats']\n",
      "topic1 | [u'seemann' u'matsunaka' u'jeff' u'schrader' u'musgrave']\n",
      "topic448 | [u'rep' u'takes' u'scared' u'congressman' u'salazar']\n",
      "topic486 | [u'filed' u'ethics' u'jury' u'konop' u'indicted']\n",
      "topic58 | [u'request' u'counterterrorism' u'probe' u'document' u'requests']\n",
      "topic282 | [u'sadrs' u'hersh' u'levin' u'beasley' u'rkan']\n",
      "topic453 | [u'parenthesis' u'nrcc' u'wesley' u'braun' u'precincts']\n",
      "topic77 | [u'protection' u'standards' u'activities' u'scientists' u'nelson']\n",
      "topic61 | [u'banner' u'selection' u'text' u'allawi' u'aircraft']\n",
      "topic364 | [u'duty' u'active' u'officer' u'personnel' u'activity']\n",
      "topic279 | [u'criticize' u'oxley' u'coordination' u'experiment' u'compassionate']\n",
      "topic374 | [u'primaries' u'delegates' u'momentum' u'caucuses' u'paying']\n",
      "topic34 | [u'chamber' u'obamas' u'rodney' u'filing' u'exact']\n",
      "topic456 | [u'priority' u'dad' u'ties' u'provided' u'justify']\n",
      "topic182 | [u'blair' u'leans' u'appeals' u'zell' u'shares']\n",
      "topic40 | [u'shiite' u'rasmussen' u'sample' u'papers' u'najaf']\n",
      "topic82 | [u'beauprez' u'gary' u'hart' u'nebraska' u'humphreys']\n",
      "topic236 | [u'improved' u'minus' u'petraeus' u'soros' u'constituency']\n",
      "topic308 | [u'rumors' u'food' u'trippi' u'thune' u'runoff']\n",
      "topic283 | [u'liberals' u'kerr' u'cards' u'chandlers' u'brain']\n",
      "topic23 | [u'gdp' u'pollution' u'oped' u'discrimination' u'timken']\n",
      "topic69 | [u'recovery' u'pacs' u'abb' u'compassionate' u'pataki']\n",
      "topic20 | [u'blair' u'accept' u'document' u'unit' u'donald']\n",
      "topic179 | [u'glad' u'alaska' u'arent' u'projects' u'bag']\n",
      "topic119 | [u'ceo' u'threatened' u'preparing' u'karl' u'vehicles']\n",
      "topic421 | [u'defeat' u'rnc' u'zell' u'oregon' u'kennedy']\n",
      "topic105 | [u'lincoln' u'chafee' u'plastic' u'collins' u'vet']\n",
      "topic213 | [u'theyll' u'edge' u'evening' u'ass' u'hoping']\n",
      "topic63 | [u'disaster' u'ideas' u'blair' u'bar' u'designed']\n",
      "topic271 | [u'hall' u'attend' u'ban' u'spain' u'protesters']\n",
      "topic173 | [u'voinovich' u'grass' u'bio' u'plea' u'playing']\n",
      "topic467 | [u'approval' u'veterans' u'swift' u'deficit' u'boat']\n",
      "topic321 | [u'traditional' u'mainstream' u'allawi' u'miss' u'winnable']\n",
      "topic474 | [u'investigators' u'arrived' u'amp' u'egon' u'matches']\n",
      "topic45 | [u'pages' u'produced' u'electricity' u'honorable' u'discharge']\n",
      "topic431 | [u'saudi' u'original' u'arabia' u'liar' u'alqaeda']\n",
      "topic245 | [u'bowerss' u'cats' u'columns' u'mice' u'thatll']\n",
      "topic281 | [u'admin' u'racine' u'republicansforkerry' u'calculator' u'newwindow']\n",
      "topic129 | [u'capture' u'resistance' u'steel' u'saddams' u'cole']\n",
      "topic256 | [u'stirling' u'foe' u'nra' u'abb' u'foes']\n",
      "topic126 | [u'detroit' u'hall' u'blogger' u'novak' u'buzz']\n",
      "topic199 | [u'ass' u'kick' u'crawford' u'kicking' u'journalism']\n",
      "topic207 | [u'coalition' u'forces' u'hussein' u'laden' u'operations']\n",
      "topic336 | [u'tight' u'latino' u'chicago' u'carry' u'corps']\n",
      "topic422 | [u'toomey' u'georgia' u'narrow' u'hoeffel' u'leans']\n",
      "topic14 | [u'mosque' u'interested' u'ann' u'dallas' u'property']\n",
      "topic78 | [u'database' u'latino' u'machine' u'ndn' u'dlc']\n",
      "topic214 | [u'forms' u'coffee' u'nelson' u'gwb' u'seniors']\n",
      "topic320 | [u'rowland' u'boxer' u'papers' u'dreier' u'kuhl']\n",
      "topic266 | [u'rowland' u'appeared' u'identity' u'subpoenas' u'gwb']\n",
      "topic175 | [u'libby' u'identity' u'rogers' u'leak' u'contempt']\n",
      "topic371 | [u'nato' u'tobacco' u'reconstruction' u'mcmahon' u'abrams']\n",
      "topic107 | [u'muslim' u'afghanistan' u'osama' u'flu' u'islamic']\n",
      "topic100 | [u'clarkes' u'agreed' u'testify' u'employee' u'kean']\n",
      "topic441 | [u'table' u'karen' u'reminded' u'harkin' u'shed']\n",
      "topic288 | [u'catholic' u'unfit' u'mars' u'martinez' u'catholics']\n",
      "topic4 | [u'cash' u'salazar' u'dccc' u'mongiardo' u'ken']\n",
      "topic229 | [u'towns' u'rumsfelds' u'counts' u'iowans' u'miserable']\n",
      "topic379 | [u'income' u'ndn' u'abortion' u'region' u'activists']\n",
      "topic19 | [u'cooler' u'commissioners' u'licenses' u'brooks' u'cnnusa']\n",
      "topic273 | [u'stern' u'romero' u'blogger' u'trippi' u'gary']\n",
      "topic7 | [u'medicare' u'seniors' u'protection' u'prescription' u'forecast']\n",
      "topic339 | [u'memorial' u'bond' u'blunt' u'fletcher' u'daniels']\n",
      "topic93 | [u'bunning' u'mongiardo' u'rumors' u'deadline' u'cohen']\n",
      "topic329 | [u'gen' u'laws' u'lawyers' u'commander' u'crisis']\n",
      "topic38 | [u'deaths' u'iran' u'sanctions' u'greatest' u'postwar']\n",
      "topic270 | [u'dreier' u'borders' u'boxer' u'commissioners' u'norquist']\n",
      "topic375 | [u'relax' u'truck' u'shopping' u'kills' u'players']\n",
      "topic153 | [u'alabama' u'nelson' u'extra' u'pdb' u'goss']\n",
      "topic497 | [u'repeated' u'sample' u'hart' u'heat' u'posting']\n",
      "topic133 | [u'stupid' u'damn' u'lawyer' u'lawyers' u'watched']\n",
      "topic36 | [u'margaret' u'banner' u'html' u'drink' u'cnns']\n",
      "topic340 | [u'smith' u'manager' u'thoughts' u'reader' u'johnson']\n",
      "topic300 | [u'bomb' u'wounded' u'casualties' u'died' u'deaths']\n",
      "topic174 | [u'father' u'income' u'blogs' u'frame' u'corporations']\n",
      "topic338 | [u'afraid' u'cap' u'norquist' u'wingnut' u'income']\n",
      "topic178 | [u'receiving' u'agreement' u'oconnor' u'indian' u'oversight']\n",
      "topic66 | [u'martinez' u'organizing' u'paid' u'phase' u'gerlach']\n",
      "topic398 | [u'king' u'nelson' u'stirling' u'harkin' u'foe']\n",
      "topic254 | [u'watch' u'combat' u'wars' u'occupation' u'invasion']\n",
      "topic33 | [u'liberty' u'sensitive' u'contract' u'species' u'mars']\n",
      "topic452 | [u'powell' u'parents' u'sweet' u'reid' u'pat']\n",
      "topic62 | [u'commerce' u'furious' u'treasury' u'inflation' u'yadda']\n",
      "topic332 | [u'recovery' u'surgery' u'fallen' u'toll' u'hospital']\n",
      "topic54 | [u'quit' u'sdal' u'criticized' u'living' u'hypocrisy']\n",
      "topic79 | [u'nrsc' u'alexander' u'dealing' u'unfit' u'fathers']\n",
      "topic306 | [u'ideals' u'kerr' u'chandlers' u'chandler' u'copy']\n",
      "topic459 | [u'prison' u'abuse' u'prisoners' u'torture' u'responsibility']\n",
      "topic35 | [u'swift' u'income' u'industrial' u'commercial' u'legacy']\n",
      "topic242 | [u'fahrenheit' u'moores' u'film' u'documentary' u'crawford']\n",
      "topic131 | [u'stations' u'arab' u'pollster' u'model' u'mars']\n",
      "topic297 | [u'latinos' u'program' u'latino' u'climate' u'mountain']\n",
      "topic123 | [u'cell' u'research' u'nuclear' u'deficit' u'fiscal']\n",
      "topic352 | [u'document' u'records' u'medals' u'ambitious' u'pool']\n",
      "topic362 | [u'susa' u'pdf' u'oregon' u'missouri' u'surveyusa']\n",
      "topic359 | [u'perfect' u'hughes' u'karen' u'french' u'species']\n",
      "topic234 | [u'print' u'structure' u'ceremony' u'sterns' u'pol']\n",
      "topic424 | [u'works' u'prime' u'minister' u'blair' u'chalabi']\n",
      "topic368 | [u'conclusions' u'alive' u'cpa' u'reserves' u'virtually']\n",
      "topic72 | [u'broadcast' u'karl' u'liars' u'oneill' u'cleland']\n",
      "topic110 | [u'established' u'bell' u'perry' u'rumors' u'mitch']\n",
      "topic290 | [u'boat' u'swift' u'favorable' u'star' u'unfavorable']\n",
      "topic167 | [u'climate' u'disease' u'missile' u'mars' u'nra']\n",
      "topic390 | [u'bunning' u'legal' u'benefits' u'faith' u'constitution']\n",
      "topic434 | [u'rodney' u'memorial' u'chafee' u'soto' u'craig']\n",
      "topic262 | [u'means' u'talking' u'deal' u'efforts' u'member']\n",
      "topic146 | [u'blitz' u'wolf' u'followup' u'axelrod' u'litmus']\n",
      "topic356 | [u'colleagues' u'speed' u'child' u'earth' u'award']\n",
      "topic394 | [u'facts' u'speaker' u'ballots' u'panel' u'retired']\n",
      "topic227 | [u'reconstruction' u'asset' u'preview' u'mccains' u'sudan']\n",
      "topic494 | [u'kids' u'slight' u'atlanta' u'repub' u'proudly']\n",
      "topic408 | [u'donors' u'advantage' u'raised' u'cash' u'dccc']\n",
      "topic331 | [u'geneva' u'coburns' u'fields' u'sooner' u'carsons']\n",
      "topic248 | [u'americas' u'body' u'choices' u'extremely' u'tactics']\n",
      "topic292 | [u'beauprez' u'pol' u'blackwell' u'junkie' u'printed']\n",
      "topic87 | [u'baseball' u'thinking' u'dollar' u'bigger' u'sox']\n",
      "topic325 | [u'parents' u'arguments' u'jesse' u'nagourney' u'defining']\n",
      "topic392 | [u'engage' u'coffee' u'blocked' u'mcdonalds' u'verified']\n",
      "topic53 | [u'thousands' u'means' u'taxes' u'opposition' u'mentioned']\n",
      "topic226 | [u'nag' u'ridiculous' u'schrader' u'stewart' u'greenwood']\n",
      "topic436 | [u'miracle' u'abrams' u'roof' u'playing' u'players']\n",
      "topic372 | [u'gillespie' u'importance' u'honorable' u'blanco' u'vance']\n",
      "topic343 | [u'signs' u'roots' u'sessions' u'konop' u'property']\n",
      "topic187 | [u'sharon' u'cuba' u'baby' u'cuban' u'frost']\n",
      "topic360 | [u'deficit' u'arnold' u'schwarzenegger' u'cap' u'norquist']\n",
      "topic471 | [u'thune' u'pdf' u'dakota' u'daschle' u'surveyusa']\n",
      "topic484 | [u'occupation' u'combat' u'fallujah' u'forces' u'afghanistan']\n",
      "topic350 | [u'meetup' u'reynolds' u'billmon' u'gilliard' u'heritage']\n",
      "topic346 | [u'central' u'prison' u'insurgents' u'chalabi' u'shiite']\n",
      "topic423 | [u'coffee' u'bigger' u'mcgreevey' u'machines' u'mcdonalds']\n",
      "topic450 | [u'prediction' u'gep' u'des' u'delegates' u'cattle']\n",
      "topic490 | [u'industrial' u'seiu' u'afscme' u'stern' u'mcentee']\n",
      "topic313 | [u'face' u'means' u'source' u'memo' u'actions']\n",
      "topic482 | [u'korea' u'spain' u'petraeus' u'folly' u'spains']\n",
      "topic324 | [u'punkmonk' u'miserable' u'palestinian' u'sharon' u'carlson']\n",
      "topic26 | [u'alabama' u'flight' u'medals' u'registrations' u'limbaugh']\n",
      "topic403 | [u'richard' u'clarke' u'respect' u'extremely' u'understand']\n",
      "topic8 | [u'liberals' u'fellow' u'thinking' u'damage' u'rowland']\n",
      "topic462 | [u'opinion' u'son' u'treatment' u'wall' u'unfavorable']\n",
      "topic277 | [u'moines' u'precinct' u'des' u'runoff' u'gephardts']\n",
      "topic161 | [u'scientists' u'shiite' u'cole' u'capture' u'bomb']\n",
      "topic439 | [u'mich' u'releasing' u'con' u'crooks' u'san']\n",
      "topic272 | [u'personnel' u'flight' u'experts' u'quote' u'protection']\n",
      "topic259 | [u'frost' u'fatalities' u'mcgreevey' u'dallas' u'manufacturing']\n",
      "topic166 | [u'biological' u'wmd' u'conclusions' u'wmds' u'knight']\n",
      "topic186 | [u'chain' u'coffee' u'degree' u'burns' u'keever']\n",
      "topic460 | [u'detroit' u'sistani' u'shiites' u'chalabis' u'treasury']\n",
      "topic303 | [u'fraud' u'reagans' u'mix' u'flu' u'dollar']\n",
      "topic220 | [u'corner' u'liberalrakkasan' u'amp' u'husband' u'arrived']\n",
      "topic404 | [u'hussein' u'combat' u'enemy' u'afghanistan' u'brought']\n",
      "topic411 | [u'nominees' u'smith' u'ideals' u'hearing' u'hersh']\n",
      "topic103 | [u'indictment' u'ginny' u'classified' u'humphreys' u'limbaugh']\n",
      "topic139 | [u'rowland' u'sharon' u'janklow' u'justices' u'guilty']\n",
      "topic88 | [u'muslim' u'population' u'cell' u'stem' u'unemployment']\n",
      "topic147 | [u'cleland' u'republic' u'medals' u'vitter' u'silver']\n",
      "topic373 | [u'petraeus' u'twoparty' u'iaea' u'debunking' u'compiled']\n",
      "topic328 | [u'rices' u'kean' u'condi' u'discharge' u'vance']\n",
      "topic222 | [u'sinclair' u'contract' u'ruled' u'konop' u'divorce']\n",
      "topic94 | [u'ready' u'rnc' u'talking' u'moment' u'couldnt']\n",
      "topic319 | [u'product' u'slogans' u'aft' u'abrams' u'lisa']\n",
      "topic287 | [u'taxes' u'species' u'nixon' u'valid' u'text']\n",
      "topic180 | [u'machines' u'nick' u'reserves' u'mothers' u'berg']\n",
      "topic435 | [u'gas' u'lying' u'liars' u'musgrave' u'vacation']\n",
      "topic250 | [u'straw' u'mcauliffe' u'explosives' u'msnbc' u'lineup']\n",
      "topic427 | [u'coalition' u'bremer' u'reuters' u'cpa' u'sovereignty']\n",
      "topic461 | [u'machines' u'meetup' u'jerry' u'inez' u'antidean']\n",
      "topic232 | [u'precincts' u'rankings' u'flag' u'roots' u'scalia']\n",
      "topic447 | [u'enron' u'bond' u'indicted' u'researchers' u'henry']\n",
      "topic358 | [u'conducted' u'percentage' u'virginia' u'error' u'statewide']\n",
      "topic31 | [u'prevent' u'contracts' u'spain' u'gwb' u'conclusions']\n",
      "topic269 | [u'tend' u'reflected' u'brokaw' u'islam' u'ruy']\n"
     ]
    }
   ],
   "source": [
    "exp.show_basic_topics()"
   ]
  },
  {
   "cell_type": "code",
   "execution_count": 13,
   "metadata": {
    "collapsed": false
   },
   "outputs": [
    {
     "name": "stdout",
     "output_type": "stream",
     "text": [
      "topic0 | [u'accounting' u'connections' u'leaks' u'promising' u'limited'] | topic0\n",
      "topic1 | [u'seemann' u'matsunaka' u'jeff' u'schrader' u'musgrave'] | topic1\n",
      "topic163 | [u'jeff' u'matsunaka' u'murphy' u'farmer' u'stork'] | topic1\n",
      "topic10 | [u'coburns' u'oksen' u'gotv' u'flag' u'tulsa'] | topic10\n",
      "topic100 | [u'clarkes' u'agreed' u'testify' u'employee' u'kean'] | topic100\n",
      "topic103 | [u'indictment' u'ginny' u'classified' u'humphreys' u'limbaugh'] | topic103\n",
      "topic104 | [u'signed' u'smith' u'faces' u'pelosi' u'credibility'] | topic104\n",
      "topic105 | [u'lincoln' u'chafee' u'plastic' u'collins' u'vet'] | topic105\n",
      "topic106 | [u'nevada' u'medicare' u'consultants' u'required' u'enron'] | topic106\n",
      "topic107 | [u'muslim' u'afghanistan' u'osama' u'flu' u'islamic'] | topic107\n",
      "topic108 | [u'guests' u'pat' u'seiu' u'aflcio' u'chuck'] | topic108\n",
      "topic109 | [u'harris' u'romero' u'wilson' u'schneider' u'retired'] | topic109\n",
      "topic110 | [u'established' u'bell' u'perry' u'rumors' u'mitch'] | topic110\n",
      "topic111 | [u'pulled' u'ballots' u'register' u'roots' u'latino'] | topic111\n",
      "topic113 | [u'mcgreevey' u'climate' u'norquist' u'guantanamo' u'mercenaries'] | topic113\n",
      "topic114 | [u'panel' u'gun' u'iran' u'adviser' u'cheneys'] | topic114\n",
      "topic119 | [u'ceo' u'threatened' u'preparing' u'karl' u'vehicles'] | topic119\n",
      "topic12 | [u'honor' u'surgery' u'sinclair' u'oreilly' u'eric'] | topic12\n",
      "topic120 | [u'servers' u'blessed' u'oceana' u'species' u'conservatism'] | topic120\n",
      "topic121 | [u'nationwide' u'kerryedwards' u'catholic' u'prediction' u'confidence'] | topic121\n",
      "topic123 | [u'cell' u'research' u'nuclear' u'deficit' u'fiscal'] | topic123\n",
      "topic13 | [u'tony' u'murkowski' u'rating' u'counties' u'statewide'] | topic124\n",
      "topic64 | [u'murkowski' u'hate' u'rasmussen' u'ratings' u'opinion'] | topic124\n",
      "topic124 | [u'gore' u'trend' u'undecided' u'congressional' u'seats'] | topic124\n",
      "topic202 | [u'statewide' u'oregon' u'average' u'registration' u'allegations'] | topic124\n",
      "topic284 | [u'rate' u'counties' u'registration' u'statewide' u'map'] | topic124\n",
      "topic396 | [u'hoeffel' u'konop' u'boxer' u'dreier' u'brain'] | topic124\n",
      "topic50 | [u'trial' u'volunteers' u'coffee' u'degree' u'discharge'] | topic125\n",
      "topic125 | [u'trial' u'coffee' u'martinez' u'mcdonalds' u'england'] | topic125\n",
      "topic126 | [u'detroit' u'hall' u'blogger' u'novak' u'buzz'] | topic126\n",
      "topic127 | [u'zogbys' u'usa' u'compete' u'moveon' u'financing'] | topic127\n",
      "topic128 | [u'moines' u'complaint' u'iowans' u'bus' u'event'] | topic128\n",
      "topic129 | [u'capture' u'resistance' u'steel' u'saddams' u'cole'] | topic129\n",
      "topic130 | [u'doomed' u'fool' u'franken' u'debated' u'fools'] | topic130\n",
      "topic131 | [u'stations' u'arab' u'pollster' u'model' u'mars'] | topic131\n",
      "topic133 | [u'stupid' u'damn' u'lawyer' u'lawyers' u'watched'] | topic133\n",
      "topic135 | [u'institution' u'couples' u'divorce' u'samesex' u'interactive'] | topic135\n",
      "topic138 | [u'sdal' u'reynolds' u'drudge' u'verified' u'medal'] | topic138\n",
      "topic139 | [u'rowland' u'sharon' u'janklow' u'justices' u'guilty'] | topic139\n",
      "topic14 | [u'mosque' u'interested' u'ann' u'dallas' u'property'] | topic14\n",
      "topic86 | [u'mcauliffe' u'grand' u'presence' u'msnbc' u'terry'] | topic140\n",
      "topic140 | [u'affair' u'grand' u'mcauliffe' u'plame' u'identity'] | topic140\n",
      "topic144 | [u'represent' u'samara' u'louisiana' u'blanco' u'kuhl'] | topic144\n",
      "topic146 | [u'blitz' u'wolf' u'followup' u'axelrod' u'litmus'] | topic146\n",
      "topic147 | [u'cleland' u'republic' u'medals' u'vitter' u'silver'] | topic147\n",
      "topic15 | [u'massive' u'arabia' u'mcclellan' u'biological' u'wmds'] | topic15\n",
      "topic150 | [u'divorce' u'bureau' u'catholics' u'posting' u'outraged'] | topic150\n",
      "topic151 | [u'counterterrorism' u'fighters' u'reconstruction' u'postwar' u'saleh'] | topic151\n",
      "topic153 | [u'alabama' u'nelson' u'extra' u'pdb' u'goss'] | topic153\n",
      "topic156 | [u'bartlett' u'adams' u'dumb' u'spains' u'flops'] | topic156\n",
      "topic157 | [u'means' u'fallujah' u'forces' u'occupation' u'command'] | topic157\n",
      "topic158 | [u'signatures' u'camp' u'naders' u'nevada' u'independents'] | topic158\n",
      "topic161 | [u'scientists' u'shiite' u'cole' u'capture' u'bomb'] | topic161\n",
      "topic162 | [u'finish' u'momentum' u'parenthesis' u'clarks' u'age'] | topic162\n",
      "topic164 | [u'deaths' u'talking' u'died' u'fiscal' u'happened'] | topic164\n",
      "topic166 | [u'biological' u'wmd' u'conclusions' u'wmds' u'knight'] | topic166\n",
      "topic167 | [u'climate' u'disease' u'missile' u'mars' u'nra'] | topic167\n",
      "topic168 | [u'grand' u'najaf' u'plame' u'mcgreevey' u'stations'] | topic168\n",
      "topic171 | [u'proud' u'kentucky' u'cash' u'donate' u'reynolds'] | topic171\n",
      "topic173 | [u'voinovich' u'grass' u'bio' u'plea' u'playing'] | topic173\n",
      "topic174 | [u'father' u'income' u'blogs' u'frame' u'corporations'] | topic174\n",
      "topic175 | [u'libby' u'identity' u'rogers' u'leak' u'contempt'] | topic175\n",
      "topic178 | [u'receiving' u'agreement' u'oconnor' u'indian' u'oversight'] | topic178\n",
      "topic179 | [u'glad' u'alaska' u'arent' u'projects' u'bag'] | topic179\n",
      "topic180 | [u'machines' u'nick' u'reserves' u'mothers' u'berg'] | topic180\n",
      "topic182 | [u'blair' u'leans' u'appeals' u'zell' u'shares'] | topic182\n",
      "topic186 | [u'chain' u'coffee' u'degree' u'burns' u'keever'] | topic186\n",
      "topic187 | [u'sharon' u'cuba' u'baby' u'cuban' u'frost'] | topic187\n",
      "topic189 | [u'cuts' u'missing' u'registrants' u'revenue' u'bradley'] | topic189\n",
      "topic19 | [u'cooler' u'commissioners' u'licenses' u'brooks' u'cnnusa'] | topic19\n",
      "topic190 | [u'gallup' u'tied' u'sample' u'tight' u'undecideds'] | topic190\n",
      "topic18 | [u'congressional' u'rep' u'seats' u'ethics' u'daschle'] | topic192\n",
      "topic192 | [u'gore' u'congressional' u'leading' u'seats' u'competitive'] | topic192\n",
      "topic465 | [u'ballots' u'papers' u'counties' u'registration' u'statewide'] | topic192\n",
      "topic193 | [u'rnc' u'rasmussen' u'chandler' u'ralph' u'error'] | topic193\n",
      "topic102 | [u'toomey' u'ndn' u'dlc' u'ideological' u'wage'] | topic194\n",
      "topic194 | [u'ndn' u'rally' u'soft' u'dlc' u'meetup'] | topic194\n",
      "topic196 | [u'letters' u'personnel' u'iran' u'background' u'arab'] | topic196\n",
      "topic197 | [u'targetting' u'narrow' u'thune' u'schneider' u'masondixon'] | topic197\n",
      "topic199 | [u'ass' u'kick' u'crawford' u'kicking' u'journalism'] | topic199\n",
      "topic20 | [u'blair' u'accept' u'document' u'unit' u'donald'] | topic20\n",
      "topic200 | [u'honorable' u'verified' u'discharge' u'wage' u'award'] | topic200\n",
      "topic201 | [u'french' u'traditional' u'france' u'pacs' u'tuition'] | topic201\n",
      "topic203 | [u'ideological' u'heck' u'brad' u'stations' u'oksen'] | topic203\n",
      "topic206 | [u'records' u'guard' u'moment' u'cbs' u'worth'] | topic206\n",
      "topic207 | [u'coalition' u'forces' u'hussein' u'laden' u'operations'] | topic207\n",
      "topic286 | [u'afghanistan' u'chalabi' u'islamic' u'bremer' u'allawi'] | topic207\n",
      "topic347 | [u'alqaida' u'qaida' u'laden' u'spain' u'taliban'] | topic207\n",
      "topic209 | [u'rules' u'activities' u'arabia' u'flu' u'perle'] | topic209\n",
      "topic211 | [u'traffic' u'alexander' u'stork' u'matching' u'donate'] | topic211\n",
      "topic212 | [u'testimony' u'clarke' u'fbi' u'counterterrorism' u'investigating'] | topic212\n",
      "topic213 | [u'theyll' u'edge' u'evening' u'ass' u'hoping'] | topic213\n",
      "topic214 | [u'forms' u'coffee' u'nelson' u'gwb' u'seniors'] | topic214\n",
      "topic217 | [u'cap' u'mcentee' u'alqaeda' u'industrial' u'poverty'] | topic217\n",
      "topic218 | [u'walmart' u'overtime' u'teachers' u'cops' u'dncs'] | topic218\n",
      "topic219 | [u'happened' u'destruction' u'blair' u'nuclear' u'explain'] | topic219\n",
      "topic478 | [u'scott' u'wmd' u'donald' u'mcclellan' u'danger'] | topic219\n",
      "topic22 | [u'constitutional' u'mate' u'banning' u'aircraft' u'mcdonalds'] | topic22\n",
      "topic220 | [u'corner' u'liberalrakkasan' u'amp' u'husband' u'arrived'] | topic220\n",
      "topic221 | [u'sharon' u'condition' u'missile' u'anonymity' u'aircraft'] | topic221\n",
      "topic222 | [u'sinclair' u'contract' u'ruled' u'konop' u'divorce'] | topic222\n",
      "topic224 | [u'hersh' u'journalism' u'geneva' u'equipment' u'boys'] | topic224\n",
      "topic225 | [u'adding' u'advice' u'trippi' u'clean' u'ideas'] | topic225\n",
      "topic226 | [u'nag' u'ridiculous' u'schrader' u'stewart' u'greenwood'] | topic226\n",
      "topic227 | [u'reconstruction' u'asset' u'preview' u'mccains' u'sudan'] | topic227\n",
      "topic229 | [u'towns' u'rumsfelds' u'counts' u'iowans' u'miserable'] | topic229\n",
      "topic23 | [u'gdp' u'pollution' u'oped' u'discrimination' u'timken'] | topic23\n",
      "topic230 | [u'october' u'gallup' u'values' u'compared' u'trends'] | topic230\n",
      "topic46 | [u'approve' u'handling' u'nixon' u'hurry' u'disapprove'] | topic231\n",
      "topic231 | [u'approve' u'disapprove' u'lawnorder' u'handling' u'surgery'] | topic231\n",
      "topic232 | [u'precincts' u'rankings' u'flag' u'roots' u'scalia'] | topic232\n",
      "topic234 | [u'print' u'structure' u'ceremony' u'sterns' u'pol'] | topic234\n",
      "topic236 | [u'improved' u'minus' u'petraeus' u'soros' u'constituency'] | topic236\n",
      "topic239 | [u'deal' u'survey' u'personal' u'jun' u'fall'] | topic239\n",
      "topic241 | [u'surprised' u'scientists' u'planet' u'possibility' u'researchers'] | topic241\n",
      "topic451 | [u'fahrenheit' u'disease' u'scientists' u'film' u'cells'] | topic241\n",
      "topic242 | [u'fahrenheit' u'moores' u'film' u'documentary' u'crawford'] | topic242\n",
      "topic393 | [u'moores' u'adults' u'film' u'cuba' u'fahrenheit'] | topic242\n",
      "topic245 | [u'bowerss' u'cats' u'columns' u'mice' u'thatll'] | topic245\n",
      "topic248 | [u'americas' u'body' u'choices' u'extremely' u'tactics'] | topic248\n",
      "topic249 | [u'baseball' u'unfit' u'cubs' u'anticipated' u'excerpts'] | topic249\n",
      "topic250 | [u'straw' u'mcauliffe' u'explosives' u'msnbc' u'lineup'] | topic250\n",
      "topic251 | [u'lawyer' u'carry' u'revenue' u'chamber' u'marked'] | topic251\n",
      "topic254 | [u'watch' u'combat' u'wars' u'occupation' u'invasion'] | topic254\n",
      "topic255 | [u'debt' u'medals' u'earned' u'purple' u'pledge'] | topic255\n",
      "topic256 | [u'stirling' u'foe' u'nra' u'abb' u'foes'] | topic256\n",
      "topic258 | [u'unit' u'meant' u'alabama' u'industrial' u'republic'] | topic258\n",
      "topic259 | [u'frost' u'fatalities' u'mcgreevey' u'dallas' u'manufacturing'] | topic259\n",
      "topic26 | [u'alabama' u'flight' u'medals' u'registrations' u'limbaugh'] | topic26\n",
      "topic260 | [u'ethics' u'reporters' u'congressional' u'bunning' u'districts'] | topic260\n",
      "topic9 | [u'abrams' u'diebold' u'machines' u'declassified' u'graves'] | topic262\n",
      "topic122 | [u'gwb' u'film' u'fahrenheit' u'machines' u'cuba'] | topic262\n",
      "topic172 | [u'played' u'bullshit' u'hersh' u'hughes' u'style'] | topic262\n",
      "topic195 | [u'film' u'ignore' u'networks' u'movie' u'broadcast'] | topic262\n",
      "topic262 | [u'means' u'talking' u'deal' u'efforts' u'member'] | topic262\n",
      "topic413 | [u'barbara' u'fahrenheit' u'keyes' u'film' u'movie'] | topic262\n",
      "topic263 | [u'system' u'health' u'veterans' u'costs' u'children'] | topic263\n",
      "topic266 | [u'rowland' u'appeared' u'identity' u'subpoenas' u'gwb'] | topic266\n",
      "topic267 | [u'arizona' u'video' u'approve' u'pulled' u'disapprove'] | topic267\n",
      "topic269 | [u'tend' u'reflected' u'brokaw' u'islam' u'ruy'] | topic269\n",
      "topic270 | [u'dreier' u'borders' u'boxer' u'commissioners' u'norquist'] | topic270\n",
      "topic271 | [u'hall' u'attend' u'ban' u'spain' u'protesters'] | topic271\n",
      "topic272 | [u'personnel' u'flight' u'experts' u'quote' u'protection'] | topic272\n",
      "topic273 | [u'stern' u'romero' u'blogger' u'trippi' u'gary'] | topic273\n",
      "topic275 | [u'flag' u'detainees' u'rumsfelds' u'chain' u'geneva'] | topic275\n",
      "topic277 | [u'moines' u'precinct' u'des' u'runoff' u'gephardts'] | topic277\n",
      "topic279 | [u'criticize' u'oxley' u'coordination' u'experiment' u'compassionate'] | topic279\n",
      "topic39 | [u'reverse' u'falling' u'kids' u'stocks' u'direwolf'] | topic281\n",
      "topic44 | [u'profile' u'stolen' u'protests' u'christopher' u'heart'] | topic281\n",
      "topic71 | [u'protests' u'chemical' u'christopher' u'mike' u'pictures'] | topic281\n",
      "topic142 | [u'bloomfield' u'mich' u'tradesports' u'reverse' u'hotshotxi'] | topic281\n",
      "topic216 | [u'keyes' u'ilsen' u'chicago' u'obama' u'blacks'] | topic281\n",
      "topic246 | [u'west' u'updated' u'takes' u'corporate' u'montclair'] | topic281\n",
      "topic281 | [u'admin' u'racine' u'republicansforkerry' u'calculator' u'newwindow'] | topic281\n",
      "topic312 | [u'calculator' u'stolen' u'christopher' u'protests' u'attempt'] | topic281\n",
      "topic476 | [u'profile' u'west' u'mike' u'scared' u'mich'] | topic281\n",
      "topic282 | [u'sadrs' u'hersh' u'levin' u'beasley' u'rkan'] | topic282\n",
      "topic283 | [u'liberals' u'kerr' u'cards' u'chandlers' u'brain'] | topic283\n",
      "topic287 | [u'taxes' u'species' u'nixon' u'valid' u'text'] | topic287\n",
      "topic288 | [u'catholic' u'unfit' u'mars' u'martinez' u'catholics'] | topic288\n",
      "topic290 | [u'boat' u'swift' u'favorable' u'star' u'unfavorable'] | topic290\n",
      "topic292 | [u'beauprez' u'pol' u'blackwell' u'junkie' u'printed'] | topic292\n",
      "topic294 | [u'hardball' u'sproul' u'reynolds' u'allen' u'sweat'] | topic294\n",
      "topic295 | [u'economists' u'deficits' u'rising' u'recovery' u'income'] | topic295\n",
      "topic296 | [u'channel' u'sinclair' u'stronger' u'chicago' u'portland'] | topic296\n",
      "topic297 | [u'latinos' u'program' u'latino' u'climate' u'mountain'] | topic297\n",
      "topic299 | [u'meetup' u'enron' u'hart' u'slot' u'pataki'] | topic299\n",
      "topic3 | [u'lawyers' u'legal' u'plame' u'courts' u'networks'] | topic3\n",
      "topic300 | [u'bomb' u'wounded' u'casualties' u'died' u'deaths'] | topic300\n",
      "topic301 | [u'editorial' u'plain' u'thomas' u'blanco' u'jindal'] | topic301\n",
      "topic99 | [u'swift' u'boat' u'veterans' u'rice' u'adviser'] | topic302\n",
      "topic247 | [u'edition' u'nbc' u'prices' u'income' u'adviser'] | topic302\n",
      "topic302 | [u'service' u'guard' u'records' u'rice' u'duty'] | topic302\n",
      "topic383 | [u'chalabi' u'powell' u'rice' u'colin' u'condi'] | topic302\n",
      "topic303 | [u'fraud' u'reagans' u'mix' u'flu' u'dollar'] | topic303\n",
      "topic304 | [u'mcgreevey' u'martinez' u'capitol' u'quit' u'protest'] | topic304\n",
      "topic306 | [u'ideals' u'kerr' u'chandlers' u'chandler' u'copy'] | topic306\n",
      "topic118 | [u'daschle' u'ratings' u'favorable' u'thune' u'newspapers'] | topic307\n",
      "topic307 | [u'approval' u'ratings' u'bounce' u'favorable' u'arkansas'] | topic307\n",
      "topic243 | [u'ideals' u'thune' u'floridas' u'india' u'cuban'] | topic308\n",
      "topic308 | [u'rumors' u'food' u'trippi' u'thune' u'runoff'] | topic308\n",
      "topic31 | [u'prevent' u'contracts' u'spain' u'gwb' u'conclusions'] | topic31\n",
      "topic310 | [u'hall' u'boots' u'fahrenheit' u'publication' u'documentary'] | topic310\n",
      "topic311 | [u'resistance' u'desperate' u'husseins' u'mosque' u'falluja'] | topic311\n",
      "topic313 | [u'face' u'means' u'source' u'memo' u'actions'] | topic313\n",
      "topic314 | [u'kysen' u'employers' u'satellite' u'crew' u'bunnings'] | topic314\n",
      "topic316 | [u'agency' u'destruction' u'oil' u'nuclear' u'invasion'] | topic316\n",
      "topic319 | [u'product' u'slogans' u'aft' u'abrams' u'lisa'] | topic319\n",
      "topic32 | [u'jun' u'signatures' u'advice' u'murphy' u'legislation'] | topic32\n",
      "topic320 | [u'rowland' u'boxer' u'papers' u'dreier' u'kuhl'] | topic320\n",
      "topic321 | [u'traditional' u'mainstream' u'allawi' u'miss' u'winnable'] | topic321\n",
      "topic324 | [u'punkmonk' u'miserable' u'palestinian' u'sharon' u'carlson'] | topic324\n",
      "topic325 | [u'parents' u'arguments' u'jesse' u'nagourney' u'defining'] | topic325\n",
      "topic326 | [u'cleland' u'emails' u'janklow' u'movie' u'pacs'] | topic326\n",
      "topic485 | [u'nixon' u'janklow' u'fatalities' u'romney' u'hyde'] | topic326\n",
      "topic327 | [u'starts' u'relations' u'stirling' u'walmart' u'cuban'] | topic327\n",
      "topic328 | [u'rices' u'kean' u'condi' u'discharge' u'vance'] | topic328\n",
      "topic329 | [u'gen' u'laws' u'lawyers' u'commander' u'crisis'] | topic329\n",
      "topic33 | [u'liberty' u'sensitive' u'contract' u'species' u'mars'] | topic33\n",
      "topic28 | [u'filibuster' u'geneva' u'plea' u'plays' u'pleasure'] | topic331\n",
      "topic331 | [u'geneva' u'coburns' u'fields' u'sooner' u'carsons'] | topic331\n",
      "topic332 | [u'recovery' u'surgery' u'fallen' u'toll' u'hospital'] | topic332\n",
      "topic333 | [u'foe' u'straw' u'cats' u'depends' u'object'] | topic333\n",
      "topic334 | [u'individual' u'aircraft' u'lists' u'korea' u'berg'] | topic334\n",
      "topic336 | [u'tight' u'latino' u'chicago' u'carry' u'corps'] | topic336\n",
      "topic337 | [u'wrote' u'serve' u'makes' u'club' u'stations'] | topic337\n",
      "topic338 | [u'afraid' u'cap' u'norquist' u'wingnut' u'income'] | topic338\n",
      "topic339 | [u'memorial' u'bond' u'blunt' u'fletcher' u'daniels'] | topic339\n",
      "topic34 | [u'chamber' u'obamas' u'rodney' u'filing' u'exact'] | topic34\n",
      "topic340 | [u'smith' u'manager' u'thoughts' u'reader' u'johnson'] | topic340\n",
      "topic343 | [u'signs' u'roots' u'sessions' u'konop' u'property'] | topic343\n",
      "topic344 | [u'unity' u'registrants' u'towns' u'location' u'bradley'] | topic344\n",
      "topic345 | [u'arabia' u'liberals' u'relief' u'frame' u'viewers'] | topic345\n",
      "topic346 | [u'central' u'prison' u'insurgents' u'chalabi' u'shiite'] | topic346\n",
      "topic348 | [u'seats' u'kerryedwards' u'bushcheney' u'districts' u'mongiardo'] | topic348\n",
      "topic35 | [u'swift' u'income' u'industrial' u'commercial' u'legacy'] | topic35\n",
      "topic350 | [u'meetup' u'reynolds' u'billmon' u'gilliard' u'heritage'] | topic350\n",
      "topic351 | [u'books' u'indictment' u'indicted' u'oneill' u'earle'] | topic351\n",
      "topic352 | [u'document' u'records' u'medals' u'ambitious' u'pool'] | topic352\n",
      "topic354 | [u'rogers' u'mcgreevey' u'indian' u'sdal' u'gerlach'] | topic354\n",
      "topic356 | [u'colleagues' u'speed' u'child' u'earth' u'award'] | topic356\n",
      "topic357 | [u'thoughts' u'activities' u'perspective' u'imagine' u'organizing'] | topic357\n",
      "topic358 | [u'conducted' u'percentage' u'virginia' u'error' u'statewide'] | topic358\n",
      "topic359 | [u'perfect' u'hughes' u'karen' u'french' u'species'] | topic359\n",
      "topic36 | [u'margaret' u'banner' u'html' u'drink' u'cnns'] | topic36\n",
      "topic360 | [u'deficit' u'arnold' u'schwarzenegger' u'cap' u'norquist'] | topic360\n",
      "topic152 | [u'arrived' u'husband' u'coburn' u'mom' u'cfr'] | topic361\n",
      "topic361 | [u'feb' u'christopher' u'efforts' u'north' u'protests'] | topic361\n",
      "topic417 | [u'amp' u'corner' u'husband' u'cast' u'arrived'] | topic361\n",
      "topic134 | [u'flip' u'pdf' u'womens' u'surveyusa' u'daniels'] | topic362\n",
      "topic362 | [u'susa' u'pdf' u'oregon' u'missouri' u'surveyusa'] | topic362\n",
      "topic364 | [u'duty' u'active' u'officer' u'personnel' u'activity'] | topic364\n",
      "topic365 | [u'food' u'iran' u'regime' u'nuclear' u'korea'] | topic365\n",
      "topic366 | [u'plays' u'northup' u'blogpac' u'players' u'playing'] | topic366\n",
      "topic367 | [u'writes' u'host' u'embarrassing' u'walmart' u'sleep'] | topic367\n",
      "topic368 | [u'conclusions' u'alive' u'cpa' u'reserves' u'virtually'] | topic368\n",
      "topic37 | [u'grassroots' u'activity' u'boxer' u'dreier' u'simon'] | topic37\n",
      "topic370 | [u'lying' u'reagans' u'torture' u'wall' u'body'] | topic370\n",
      "topic371 | [u'nato' u'tobacco' u'reconstruction' u'mcmahon' u'abrams'] | topic371\n",
      "topic372 | [u'gillespie' u'importance' u'honorable' u'blanco' u'vance'] | topic372\n",
      "topic373 | [u'petraeus' u'twoparty' u'iaea' u'debunking' u'compiled'] | topic373\n",
      "topic24 | [u'clarks' u'nevada' u'delegates' u'trippi' u'green'] | topic374\n",
      "topic89 | [u'caucuses' u'round' u'winner' u'contest' u'delegates'] | topic374\n",
      "topic188 | [u'delegates' u'caucuses' u'moines' u'des' u'register'] | topic374\n",
      "topic374 | [u'primaries' u'delegates' u'momentum' u'caucuses' u'paying'] | topic374\n",
      "topic375 | [u'relax' u'truck' u'shopping' u'kills' u'players'] | topic375\n",
      "topic376 | [u'email' u'dkos' u'morrison' u'quarter' u'farmer'] | topic376\n",
      "topic379 | [u'income' u'ndn' u'abortion' u'region' u'activists'] | topic379\n",
      "topic38 | [u'deaths' u'iran' u'sanctions' u'greatest' u'postwar'] | topic38\n",
      "topic380 | [u'aflcio' u'industrial' u'enforcement' u'bureau' u'sharon'] | topic380\n",
      "topic83 | [u'forces' u'allies' u'fallujah' u'hussein' u'coalition'] | topic381\n",
      "topic101 | [u'clarke' u'testimony' u'fallujah' u'saudi' u'paul'] | topic381\n",
      "topic141 | [u'pdb' u'baseball' u'bradley' u'schwarzenegger' u'knight'] | topic381\n",
      "topic198 | [u'health' u'commission' u'rights' u'documents' u'terror'] | topic381\n",
      "topic235 | [u'justice' u'success' u'responsible' u'required' u'acts'] | topic381\n",
      "topic381 | [u'face' u'rights' u'coalition' u'forces' u'reporters'] | topic381\n",
      "topic402 | [u'clout' u'flu' u'spain' u'disease' u'electricity'] | topic381\n",
      "topic2 | [u'arg' u'braun' u'film' u'moore' u'parenthesis'] | topic382\n",
      "topic75 | [u'braun' u'conducted' u'pdf' u'arg' u'kerryedwards'] | topic382\n",
      "topic149 | [u'round' u'parenthesis' u'braun' u'spot' u'super'] | topic382\n",
      "topic317 | [u'arg' u'braun' u'winner' u'contest' u'parenthesis'] | topic382\n",
      "topic382 | [u'congressional' u'means' u'sharpton' u'january' u'advantage'] | topic382\n",
      "topic384 | [u'utah' u'matheson' u'hyde' u'anemic' u'vet'] | topic384\n",
      "topic386 | [u'janklow' u'justice' u'investigations' u'abuses' u'lawyers'] | topic386\n",
      "topic388 | [u'enemy' u'standards' u'gwb' u'ideals' u'rightwing'] | topic388\n",
      "topic390 | [u'bunning' u'legal' u'benefits' u'faith' u'constitution'] | topic390\n",
      "topic469 | [u'catholic' u'faith' u'french' u'catholics' u'dallas'] | topic390\n",
      "topic341 | [u'diedrich' u'organizing' u'meetup' u'sdal' u'targetting'] | topic391\n",
      "topic391 | [u'congressman' u'diedrich' u'map' u'kerryedwards' u'schrader'] | topic391\n",
      "topic392 | [u'engage' u'coffee' u'blocked' u'mcdonalds' u'verified'] | topic392\n",
      "topic394 | [u'facts' u'speaker' u'ballots' u'panel' u'retired'] | topic394\n",
      "topic397 | [u'tied' u'bounce' u'rnc' u'rating' u'approval'] | topic397\n",
      "topic398 | [u'king' u'nelson' u'stirling' u'harkin' u'foe'] | topic398\n",
      "topic454 | [u'mojo' u'spindizzy' u'bumblebums' u'abraham' u'king'] | topic398\n",
      "topic399 | [u'flight' u'minds' u'hearing' u'murkowski' u'lisa'] | topic399\n",
      "topic4 | [u'cash' u'salazar' u'dccc' u'mongiardo' u'ken'] | topic4\n",
      "topic112 | [u'salazar' u'coors' u'declined' u'boxer' u'registrants'] | topic4\n",
      "topic40 | [u'shiite' u'rasmussen' u'sample' u'papers' u'najaf'] | topic40\n",
      "topic400 | [u'humphreys' u'handling' u'steve' u'foe' u'gilliard'] | topic400\n",
      "topic136 | [u'records' u'duty' u'unit' u'personnel' u'commander'] | topic401\n",
      "topic401 | [u'guard' u'served' u'records' u'duty' u'ran'] | topic401\n",
      "topic289 | [u'richard' u'chief' u'rice' u'clarke' u'qaeda'] | topic403\n",
      "topic377 | [u'reality' u'wilson' u'richard' u'nag' u'counterterrorism'] | topic403\n",
      "topic403 | [u'richard' u'clarke' u'respect' u'extremely' u'understand'] | topic403\n",
      "topic473 | [u'retired' u'clarke' u'romero' u'richard' u'clarkes'] | topic403\n",
      "topic215 | [u'violence' u'wounded' u'insurgents' u'deaths' u'died'] | topic404\n",
      "topic395 | [u'afghanistan' u'qaida' u'missing' u'surgery' u'taliban'] | topic404\n",
      "topic404 | [u'hussein' u'combat' u'enemy' u'afghanistan' u'brought'] | topic404\n",
      "topic405 | [u'thune' u'najaf' u'minority' u'blood' u'ginny'] | topic405\n",
      "topic406 | [u'fallujah' u'marine' u'gen' u'commander' u'marines'] | topic406\n",
      "topic407 | [u'son' u'east' u'flight' u'british' u'interviews'] | topic407\n",
      "topic116 | [u'quarter' u'contributions' u'donors' u'nancy' u'dkos'] | topic408\n",
      "topic280 | [u'donors' u'dkos' u'quarter' u'funds' u'nancy'] | topic408\n",
      "topic315 | [u'dccc' u'morrison' u'contributions' u'jeff' u'matsunaka'] | topic408\n",
      "topic408 | [u'donors' u'advantage' u'raised' u'cash' u'dccc'] | topic408\n",
      "topic481 | [u'morrison' u'farmer' u'nancy' u'donations' u'murphy'] | topic408\n",
      "topic409 | [u'deal' u'friday' u'talking' u'similar' u'reporters'] | topic409\n",
      "topic411 | [u'nominees' u'smith' u'ideals' u'hearing' u'hersh'] | topic411\n",
      "topic414 | [u'responsible' u'ignore' u'torture' u'donald' u'quote'] | topic414\n",
      "topic416 | [u'aflcio' u'commerce' u'loyalty' u'martinez' u'thurlow'] | topic416\n",
      "topic30 | [u'flu' u'french' u'industry' u'karen' u'climate'] | topic418\n",
      "topic418 | [u'environmental' u'industry' u'scientists' u'income' u'gdp'] | topic418\n",
      "topic419 | [u'losses' u'estimate' u'wearing' u'luntz' u'foster'] | topic419\n",
      "topic42 | [u'kerr' u'prices' u'tnr' u'drudge' u'stirling'] | topic42\n",
      "topic420 | [u'islam' u'indian' u'science' u'bartlett' u'scientific'] | topic420\n",
      "topic421 | [u'defeat' u'rnc' u'zell' u'oregon' u'kennedy'] | topic421\n",
      "topic183 | [u'toomey' u'hoeffel' u'salazar' u'coors' u'moderates'] | topic422\n",
      "topic244 | [u'meetup' u'islam' u'specters' u'hoeffel' u'brokaw'] | topic422\n",
      "topic278 | [u'pat' u'toomey' u'hoeffel' u'judiciary' u'yadda'] | topic422\n",
      "topic422 | [u'toomey' u'georgia' u'narrow' u'hoeffel' u'leans'] | topic422\n",
      "topic423 | [u'coffee' u'bigger' u'mcgreevey' u'machines' u'mcdonalds'] | topic423\n",
      "topic424 | [u'works' u'prime' u'minister' u'blair' u'chalabi'] | topic424\n",
      "topic427 | [u'coalition' u'bremer' u'reuters' u'cpa' u'sovereignty'] | topic427\n",
      "topic428 | [u'markets' u'buys' u'principles' u'wall' u'nra'] | topic428\n",
      "topic429 | [u'airport' u'reynolds' u'borders' u'tariffs' u'steel'] | topic429\n",
      "topic43 | [u'apology' u'played' u'fletcher' u'music' u'blitz'] | topic43\n",
      "topic430 | [u'survey' u'pdf' u'kerryedwards' u'rasmussen' u'tied'] | topic430\n",
      "topic431 | [u'saudi' u'original' u'arabia' u'liar' u'alqaeda'] | topic431\n",
      "topic210 | [u'delegates' u'february' u'arg' u'feb' u'primaries'] | topic433\n",
      "topic433 | [u'caucus' u'round' u'feb' u'chandler' u'caucuses'] | topic433\n",
      "topic434 | [u'rodney' u'memorial' u'chafee' u'soto' u'craig'] | topic434\n",
      "topic435 | [u'gas' u'lying' u'liars' u'musgrave' u'vacation'] | topic435\n",
      "topic436 | [u'miracle' u'abrams' u'roof' u'playing' u'players'] | topic436\n",
      "topic437 | [u'virginia' u'des' u'moines' u'population' u'optimistic'] | topic437\n",
      "topic438 | [u'urban' u'incomes' u'cnnusa' u'hour' u'offense'] | topic438\n",
      "topic47 | [u'mich' u'west' u'crooks' u'virginiadem' u'releasing'] | topic439\n",
      "topic115 | [u'releasing' u'idetestthispres' u'crooks' u'barbero' u'misterajc'] | topic439\n",
      "topic177 | [u'profile' u'mich' u'con' u'scared' u'mike'] | topic439\n",
      "topic322 | [u'scared' u'falling' u'mich' u'con' u'releasing'] | topic439\n",
      "topic363 | [u'scared' u'mich' u'falling' u'con' u'crooks'] | topic439\n",
      "topic439 | [u'mich' u'releasing' u'con' u'crooks' u'san'] | topic439\n",
      "topic440 | [u'testify' u'wilson' u'counterterrorism' u'subpoenas' u'ranch'] | topic440\n",
      "topic441 | [u'table' u'karen' u'reminded' u'harkin' u'shed'] | topic441\n",
      "topic443 | [u'breaking' u'huge' u'age' u'consistently' u'leaners'] | topic443\n",
      "topic447 | [u'enron' u'bond' u'indicted' u'researchers' u'henry'] | topic447\n",
      "topic387 | [u'west' u'thune' u'takes' u'gehlen' u'thunes'] | topic448\n",
      "topic448 | [u'rep' u'takes' u'scared' u'congressman' u'salazar'] | topic448\n",
      "topic449 | [u'filed' u'activities' u'activity' u'naders' u'insurance'] | topic449\n",
      "topic45 | [u'pages' u'produced' u'electricity' u'honorable' u'discharge'] | topic45\n",
      "topic450 | [u'prediction' u'gep' u'des' u'delegates' u'cattle'] | topic450\n",
      "topic264 | [u'cleland' u'janklow' u'crimes' u'powell' u'investigate'] | topic452\n",
      "topic452 | [u'powell' u'parents' u'sweet' u'reid' u'pat'] | topic452\n",
      "topic453 | [u'parenthesis' u'nrcc' u'wesley' u'braun' u'precincts'] | topic453\n",
      "topic455 | [u'nuclear' u'search' u'gwb' u'predicted' u'perle'] | topic455\n",
      "topic456 | [u'priority' u'dad' u'ties' u'provided' u'justify'] | topic456\n",
      "topic457 | [u'advice' u'awol' u'carter' u'mine' u'davis'] | topic457\n",
      "topic76 | [u'committed' u'rights' u'abortion' u'constitution' u'breaking'] | topic458\n",
      "topic223 | [u'elected' u'rights' u'amendment' u'opposition' u'supreme'] | topic458\n",
      "topic252 | [u'region' u'rights' u'human' u'abuses' u'constitution'] | topic458\n",
      "topic293 | [u'alexander' u'schrader' u'ginny' u'baseball' u'divorce'] | topic458\n",
      "topic323 | [u'amendment' u'rights' u'west' u'supreme' u'virginia'] | topic458\n",
      "topic445 | [u'rights' u'supreme' u'ban' u'abortion' u'citizens'] | topic458\n",
      "topic458 | [u'congressional' u'amendment' u'rights' u'civil' u'opposition'] | topic458\n",
      "topic92 | [u'prison' u'ethics' u'abuse' u'saudi' u'scandal'] | topic459\n",
      "topic459 | [u'prison' u'abuse' u'prisoners' u'torture' u'responsibility'] | topic459\n",
      "topic460 | [u'detroit' u'sistani' u'shiites' u'chalabis' u'treasury'] | topic460\n",
      "topic461 | [u'machines' u'meetup' u'jerry' u'inez' u'antidean'] | topic461\n",
      "topic462 | [u'opinion' u'son' u'treatment' u'wall' u'unfavorable'] | topic462\n",
      "topic463 | [u'flu' u'kean' u'surgery' u'qpoll' u'quinnipiac'] | topic463\n",
      "topic464 | [u'pollster' u'rasmussen' u'independents' u'tied' u'undecideds'] | topic464\n",
      "topic466 | [u'fraud' u'enron' u'filing' u'rodney' u'luntz'] | topic466\n",
      "topic467 | [u'approval' u'veterans' u'swift' u'deficit' u'boat'] | topic467\n",
      "topic470 | [u'keyes' u'flag' u'alan' u'mcgreevey' u'ilsen'] | topic470\n",
      "topic238 | [u'pdf' u'surveyusa' u'favorable' u'unfavorable' u'disease'] | topic471\n",
      "topic276 | [u'daschle' u'thune' u'todd' u'indiana' u'object'] | topic471\n",
      "topic471 | [u'thune' u'pdf' u'dakota' u'daschle' u'surveyusa'] | topic471\n",
      "topic165 | [u'adviser' u'edition' u'swift' u'nbc' u'kerryedwards'] | topic472\n",
      "topic472 | [u'abc' u'adviser' u'rice' u'edition' u'veep'] | topic472\n",
      "topic474 | [u'investigators' u'arrived' u'amp' u'egon' u'matches'] | topic474\n",
      "topic5 | [u'catholic' u'religion' u'catholics' u'complex' u'poverty'] | topic475\n",
      "topic11 | [u'endorse' u'afscme' u'aflcio' u'gep' u'seiu'] | topic475\n",
      "topic17 | [u'raised' u'decision' u'feb' u'watch' u'thought'] | topic475\n",
      "topic21 | [u'bunning' u'hall' u'agreement' u'hour' u'bunnings'] | topic475\n",
      "topic25 | [u'dakota' u'diedrich' u'opportunities' u'standards' u'child'] | topic475\n",
      "topic27 | [u'host' u'sdal' u'earle' u'schneider' u'gerlach'] | topic475\n",
      "topic29 | [u'mcauliffe' u'foe' u'steven' u'uss' u'sacrifice'] | topic475\n",
      "topic41 | [u'adviser' u'minister' u'occupation' u'kerryedwards' u'chalabi'] | topic475\n",
      "topic52 | [u'speaker' u'interviewed' u'reform' u'edition' u'sens'] | topic475\n",
      "topic59 | [u'income' u'mcgreevey' u'screen' u'harris' u'earned'] | topic475\n",
      "topic70 | [u'dollars' u'donors' u'richard' u'contributions' u'statements'] | topic475\n",
      "topic73 | [u'keyes' u'walmart' u'republic' u'daughter' u'weather'] | topic475\n",
      "topic85 | [u'frost' u'sessions' u'dallas' u'konop' u'blanco'] | topic475\n",
      "topic91 | [u'spain' u'manufacturing' u'naders' u'reynolds' u'collected'] | topic475\n",
      "topic95 | [u'finish' u'endorsements' u'endorse' u'afscme' u'seiu'] | topic475\n",
      "topic98 | [u'supreme' u'salazar' u'miles' u'ken' u'bid'] | topic475\n",
      "topic117 | [u'remember' u'large' u'clinton' u'updated' u'reason'] | topic475\n",
      "topic137 | [u'alexander' u'keever' u'dad' u'inez' u'imminent'] | topic475\n",
      "topic145 | [u'bunning' u'kentucky' u'mongiardo' u'environmental' u'gas'] | topic475\n",
      "topic148 | [u'february' u'blogosphere' u'chandler' u'mrliberal' u'feb'] | topic475\n",
      "topic154 | [u'alexander' u'rumors' u'industry' u'main' u'redistricting'] | topic475\n",
      "topic155 | [u'diedrich' u'larry' u'treasury' u'sdal' u'guardian'] | topic475\n",
      "topic160 | [u'opinion' u'favorable' u'approve' u'handling' u'disapprove'] | topic475\n",
      "topic169 | [u'keyes' u'chicago' u'barack' u'praise' u'ilsen'] | topic475\n",
      "topic170 | [u'unity' u'aflcio' u'straw' u'ideas' u'seiu'] | topic475\n",
      "topic181 | [u'spend' u'west' u'takes' u'virginia' u'southern'] | topic475\n",
      "topic184 | [u'decision' u'north' u'makes' u'watch' u'dkos'] | topic475\n",
      "topic185 | [u'justice' u'criminal' u'torture' u'allegations' u'memos'] | topic475\n",
      "topic191 | [u'konop' u'boxer' u'flu' u'dreier' u'tuesdays'] | topic475\n",
      "topic204 | [u'lawn' u'dallas' u'sessions' u'frost' u'margaret'] | topic475\n",
      "topic205 | [u'chandlers' u'afscme' u'blanco' u'jindal' u'jerry'] | topic475\n",
      "topic208 | [u'ethics' u'attorney' u'dakota' u'salazar' u'delays'] | topic475\n",
      "topic228 | [u'north' u'seats' u'competitive' u'area' u'similar'] | topic475\n",
      "topic233 | [u'dccc' u'contributions' u'nancy' u'opponent' u'rep'] | topic475\n",
      "topic237 | [u'tariffs' u'mcgreevey' u'sanctions' u'steel' u'adults'] | topic475\n",
      "topic240 | [u'nevada' u'green' u'learned' u'bunning' u'camp'] | topic475\n",
      "topic257 | [u'university' u'seats' u'feb' u'trend' u'california'] | topic475\n",
      "topic261 | [u'braun' u'clarks' u'newsweek' u'momentum' u'season'] | topic475\n",
      "topic265 | [u'oksen' u'diedrich' u'server' u'ken' u'demint'] | topic475\n",
      "topic268 | [u'fighters' u'ilsen' u'keyes' u'moores' u'daughter'] | topic475\n",
      "topic274 | [u'kean' u'afscme' u'files' u'editorial' u'subpoena'] | topic475\n",
      "topic285 | [u'yahoo' u'countdown' u'clock' u'punkmonk' u'smith'] | topic475\n",
      "topic291 | [u'justice' u'science' u'memo' u'saudi' u'request'] | topic475\n",
      "topic305 | [u'industry' u'reform' u'failure' u'companies' u'steel'] | topic475\n",
      "topic309 | [u'momentum' u'wilson' u'afscme' u'catholic' u'seiu'] | topic475\n",
      "topic318 | [u'ken' u'usa' u'surveyusa' u'governors' u'counties'] | topic475\n",
      "topic330 | [u'toomey' u'deficit' u'hoeffel' u'james' u'fiscal'] | topic475\n",
      "topic335 | [u'ralph' u'signatures' u'nevada' u'ballots' u'lawyer'] | topic475\n",
      "topic349 | [u'deal' u'line' u'raised' u'talking' u'women'] | topic475\n",
      "topic353 | [u'trial' u'saudi' u'measure' u'arabia' u'blair'] | topic475\n",
      "topic355 | [u'pickup' u'dccc' u'kentucky' u'chandler' u'georgia'] | topic475\n",
      "topic369 | [u'happy' u'ralph' u'signatures' u'nevada' u'smith'] | topic475\n",
      "topic378 | [u'liberals' u'tariffs' u'alexander' u'sanctions' u'designed'] | topic475\n",
      "topic412 | [u'channel' u'viewers' u'seiu' u'sinclair' u'mcentee'] | topic475\n",
      "topic415 | [u'rate' u'counties' u'ndn' u'latino' u'child'] | topic475\n",
      "topic425 | [u'braun' u'lack' u'contest' u'clarks' u'drop'] | topic475\n",
      "topic475 | [u'rep' u'thought' u'talking' u'line' u'remember'] | topic475\n",
      "topic480 | [u'video' u'nevada' u'trial' u'signatures' u'volunteers'] | topic475\n",
      "topic491 | [u'falls' u'unfit' u'kerr' u'bus' u'traffic'] | topic475\n",
      "topic477 | [u'income' u'costs' u'medicare' u'fiscal' u'agreed'] | topic477\n",
      "topic57 | [u'laden' u'tariffs' u'europeans' u'sanctions' u'alqaida'] | topic479\n",
      "topic176 | [u'arabia' u'laden' u'servers' u'gwb' u'alqaeda'] | topic479\n",
      "topic446 | [u'diedrich' u'sdal' u'gwb' u'cap' u'laden'] | topic479\n",
      "topic479 | [u'laden' u'osama' u'escape' u'pakistan' u'arabia'] | topic479\n",
      "topic48 | [u'spot' u'posting' u'award' u'contributors' u'glad'] | topic48\n",
      "topic482 | [u'korea' u'spain' u'petraeus' u'folly' u'spains'] | topic482\n",
      "topic483 | [u'ryan' u'lying' u'liars' u'accusations' u'karen'] | topic483\n",
      "topic16 | [u'combat' u'command' u'fallujah' u'saddams' u'operations'] | topic484\n",
      "topic253 | [u'fallujah' u'wounded' u'civilians' u'cole' u'marine'] | topic484\n",
      "topic385 | [u'occupation' u'violence' u'fallujah' u'wounded' u'insurgents'] | topic484\n",
      "topic484 | [u'occupation' u'combat' u'fallujah' u'forces' u'afghanistan'] | topic484\n",
      "topic342 | [u'ethics' u'delays' u'earle' u'counsel' u'bell'] | topic486\n",
      "topic432 | [u'earle' u'ethics' u'bell' u'production' u'intimidation'] | topic486\n",
      "topic486 | [u'filed' u'ethics' u'jury' u'konop' u'indicted'] | topic486\n",
      "topic487 | [u'map' u'average' u'alternative' u'hall' u'alabama'] | topic487\n",
      "topic298 | [u'murkowski' u'alaska' u'rating' u'arkansas' u'lisa'] | topic488\n",
      "topic442 | [u'murkowski' u'rating' u'moore' u'explosives' u'lisa'] | topic488\n",
      "topic488 | [u'alaska' u'murkowski' u'tony' u'rating' u'soft'] | topic488\n",
      "topic489 | [u'testimony' u'plame' u'books' u'cheneys' u'testify'] | topic489\n",
      "topic49 | [u'egon' u'buh' u'luaptifer' u'maximumken' u'nagourney'] | topic49\n",
      "topic490 | [u'industrial' u'seiu' u'afscme' u'stern' u'mcentee'] | topic490\n",
      "topic492 | [u'radio' u'youll' u'rnc' u'stations' u'blogosphere'] | topic492\n",
      "topic493 | [u'gas' u'contracts' u'bullshit' u'appearance' u'womens'] | topic493\n",
      "topic97 | [u'amp' u'corner' u'husband' u'cast' u'proudly'] | topic494\n",
      "topic159 | [u'amp' u'atlanta' u'repub' u'liberalrakkasan' u'corner'] | topic494\n",
      "topic389 | [u'proudly' u'repub' u'slight' u'kids' u'atlanta'] | topic494\n",
      "topic444 | [u'falling' u'kids' u'atlanta' u'yahoo' u'stocks'] | topic494\n",
      "topic494 | [u'kids' u'slight' u'atlanta' u'repub' u'proudly'] | topic494\n",
      "topic495 | [u'wage' u'industries' u'payroll' u'rational' u'realitybased'] | topic495\n",
      "topic496 | [u'schneider' u'kuhl' u'castor' u'martinez' u'holden'] | topic496\n",
      "topic497 | [u'repeated' u'sample' u'hart' u'heat' u'posting'] | topic497\n",
      "topic498 | [u'shia' u'struggle' u'calm' u'islamic' u'rarely'] | topic498\n",
      "topic499 | [u'serving' u'sacrifice' u'accused' u'medals' u'vacation'] | topic499\n",
      "topic51 | [u'regions' u'soros' u'stagflation' u'diversity' u'eliminating'] | topic51\n",
      "topic53 | [u'thousands' u'means' u'taxes' u'opposition' u'mentioned'] | topic53\n",
      "topic54 | [u'quit' u'sdal' u'criticized' u'living' u'hypocrisy'] | topic54\n",
      "topic55 | [u'counties' u'registration' u'registrations' u'acceptance' u'forms'] | topic55\n",
      "topic426 | [u'registration' u'registrations' u'registrants' u'lake' u'blaming'] | topic55\n",
      "topic56 | [u'appeared' u'analysts' u'signed' u'agents' u'protesters'] | topic56\n",
      "topic58 | [u'request' u'counterterrorism' u'probe' u'document' u'requests'] | topic58\n",
      "topic6 | [u'trends' u'usa' u'surveyusa' u'arkansas' u'bet'] | topic6\n",
      "topic60 | [u'photo' u'hoeffel' u'save' u'club' u'electorate'] | topic60\n",
      "topic61 | [u'banner' u'selection' u'text' u'allawi' u'aircraft'] | topic61\n",
      "topic62 | [u'commerce' u'furious' u'treasury' u'inflation' u'yadda'] | topic62\n",
      "topic63 | [u'disaster' u'ideas' u'blair' u'bar' u'designed'] | topic63\n",
      "topic65 | [u'residents' u'ruling' u'schwarzenegger' u'samesex' u'couples'] | topic65\n",
      "topic66 | [u'martinez' u'organizing' u'paid' u'phase' u'gerlach'] | topic66\n",
      "topic67 | [u'coburns' u'tulsa' u'jackson' u'keever' u'taylor'] | topic67\n",
      "topic410 | [u'coburns' u'unfit' u'tulsa' u'pool' u'ceremony'] | topic67\n",
      "topic68 | [u'click' u'ryan' u'enlarge' u'crane' u'chandlers'] | topic68\n",
      "topic69 | [u'recovery' u'pacs' u'abb' u'compassionate' u'pataki'] | topic69\n",
      "topic7 | [u'medicare' u'seniors' u'protection' u'prescription' u'forecast'] | topic7\n",
      "topic72 | [u'broadcast' u'karl' u'liars' u'oneill' u'cleland'] | topic72\n",
      "topic74 | [u'rep' u'survey' u'advantage' u'head' u'worth'] | topic74\n",
      "topic77 | [u'protection' u'standards' u'activities' u'scientists' u'nelson'] | topic77\n",
      "topic78 | [u'database' u'latino' u'machine' u'ndn' u'dlc'] | topic78\n",
      "topic79 | [u'nrsc' u'alexander' u'dealing' u'unfit' u'fathers'] | topic79\n",
      "topic8 | [u'liberals' u'fellow' u'thinking' u'damage' u'rowland'] | topic8\n",
      "topic80 | [u'indian' u'contracts' u'gwb' u'ceo' u'sharon'] | topic80\n",
      "topic81 | [u'mix' u'islam' u'fatalities' u'subsequent' u'nightly'] | topic81\n",
      "topic82 | [u'beauprez' u'gary' u'hart' u'nebraska' u'humphreys'] | topic82\n",
      "topic84 | [u'north' u'dakota' u'break' u'seats' u'pickup'] | topic84\n",
      "topic143 | [u'zell' u'leans' u'nrsc' u'north' u'stephanie'] | topic84\n",
      "topic87 | [u'baseball' u'thinking' u'dollar' u'bigger' u'sox'] | topic87\n",
      "topic88 | [u'muslim' u'population' u'cell' u'stem' u'unemployment'] | topic88\n",
      "topic90 | [u'practice' u'explosives' u'french' u'flu' u'karen'] | topic90\n",
      "topic93 | [u'bunning' u'mongiardo' u'rumors' u'deadline' u'cohen'] | topic93\n",
      "topic468 | [u'agreement' u'bunning' u'blanco' u'shares' u'ndn'] | topic93\n",
      "topic94 | [u'ready' u'rnc' u'talking' u'moment' u'couldnt'] | topic94\n",
      "topic132 | [u'americas' u'talking' u'taxes' u'minds' u'arms'] | topic94\n",
      "topic96 | [u'foes' u'miserable' u'viewing' u'blessed' u'heather'] | topic96\n"
     ]
    }
   ],
   "source": [
    "exp.show_all_topics(sort_by_closest_topic=True)"
   ]
  },
  {
   "cell_type": "code",
   "execution_count": 14,
   "metadata": {
    "collapsed": false
   },
   "outputs": [
    {
     "data": {
      "text/plain": [
       "0.002252705628052354"
      ]
     },
     "execution_count": 14,
     "metadata": {},
     "output_type": "execute_result"
    }
   ],
   "source": [
    "exp.topics_pool.get_dist_between_topics('topic10', 'topic60')"
   ]
  },
  {
   "cell_type": "code",
   "execution_count": 19,
   "metadata": {
    "collapsed": false
   },
   "outputs": [
    {
     "name": "stdout",
     "output_type": "stream",
     "text": [
      "topic9:\n",
      "[u'clarke' u'schneider' u'indicted' u'indictment' u'rosenberg']\n",
      "topic71:\n",
      "[u'ratings' u'caucuses' u'actual' u'film' u'winner']\n",
      "topic87:\n",
      "[u'violence' u'veterans' u'mission' u'boat' u'command']\n",
      "topic117:\n",
      "[u'nuclear' u'quickly' u'finish' u'precinct' u'dole']\n",
      "topic139:\n",
      "[u'capture' u'ralph' u'independents' u'inevitable' u'extremely']\n",
      "topic151:\n",
      "[u'town' u'spanish' u'abuses' u'photos' u'hearings']\n",
      "topic153:\n",
      "[u'salazar' u'favorite' u'car' u'initial' u'ballots']\n",
      "topic154:\n",
      "[u'frost' u'signs' u'armor' u'scalia' u'sirota']\n",
      "topic156:\n",
      "[u'incumbents' u'liberals' u'gains' u'tens' u'collected']\n",
      "topic157:\n",
      "[u'nancy' u'east' u'religious' u'peace' u'qaeda']\n"
     ]
    }
   ],
   "source": [
    "exp.show_next_topics_batch(10)"
   ]
  },
  {
   "cell_type": "code",
   "execution_count": 34,
   "metadata": {
    "collapsed": true
   },
   "outputs": [],
   "source": [
    "exp.save_dataset_to_navigator()"
   ]
  },
  {
   "cell_type": "code",
   "execution_count": 35,
   "metadata": {
    "collapsed": true
   },
   "outputs": [],
   "source": [
    "exp.save_next_topics_batch_ to_navigator(15)"
   ]
  },
  {
   "cell_type": "code",
   "execution_count": null,
   "metadata": {
    "collapsed": true
   },
   "outputs": [],
   "source": [
    "exp.load_assessments_from_navigator()"
   ]
  },
  {
   "cell_type": "code",
   "execution_count": null,
   "metadata": {
    "collapsed": true
   },
   "outputs": [],
   "source": [
    "exp.show_assessments()"
   ]
  }
 ],
 "metadata": {
  "kernelspec": {
   "display_name": "Python 2",
   "language": "python",
   "name": "python2"
  },
  "language_info": {
   "codemirror_mode": {
    "name": "ipython",
    "version": 2
   },
   "file_extension": ".py",
   "mimetype": "text/x-python",
   "name": "python",
   "nbconvert_exporter": "python",
   "pygments_lexer": "ipython2",
   "version": "2.7.11"
  }
 },
 "nbformat": 4,
 "nbformat_minor": 0
}
