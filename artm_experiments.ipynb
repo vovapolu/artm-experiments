{
 "cells": [
  {
   "cell_type": "code",
   "execution_count": null,
   "metadata": {
    "collapsed": false
   },
   "outputs": [],
   "source": [
    "from artm_experiments import Experiment, Pool, ConvexHullMerger, TopicsRanker\n",
    "import artm"
   ]
  },
  {
   "cell_type": "markdown",
   "metadata": {},
   "source": [
    "Глобальный пакет `artm_experiments` содержит классы эксперимента, пула, линейной оболочки, други средств для работы над данными. "
   ]
  },
  {
   "cell_type": "markdown",
   "metadata": {},
   "source": [
    "_Нужно понять, как мы конфигурировать модели для BigARTM. Я пока придумал два варианта:_\n",
    "- _В виде json'а (В этом случае можно будет потом легко оформить это все дело в виде веба)_\n",
    "- _В виде отдельного класса (Тогда будет сложнее с вебом, хотя можно конвертировать класс в json)_\n",
    "\n",
    "**Видимо, это откладывается, модель можно будет настраивать напрямую из artm.**\n",
    "\n",
    "**Но для веб интерфейса все-таки нужно будет настраивать модель в каком-то формате, приходящем с front-end'а**"
   ]
  },
  {
   "cell_type": "code",
   "execution_count": null,
   "metadata": {
    "collapsed": true
   },
   "outputs": [],
   "source": [
    "pool = Pool(topics_merger=ConvexHullMerger('<параметры выпуклой оболочки>'), \n",
    "            topics_ranking=TopicsRanker('<параметры ранжирования>'))\n",
    "exp = Experiment(models=['<описание моделей для BigARTM>'], topics_pool=pool)\n",
    "exp.load_data('<данные для экспериментов>')\n",
    "exp.run(topics_batch_size=50)"
   ]
  },
  {
   "cell_type": "markdown",
   "metadata": {},
   "source": [
    "Создаем эксперимент с несколькими моделями, указываем сколько хотим получать тем для ассесоров, возможно, понадобится несколько оценок."
   ]
  },
  {
   "cell_type": "code",
   "execution_count": null,
   "metadata": {
    "collapsed": true
   },
   "outputs": [],
   "source": [
    "info = exp.get_info()\n",
    "plot.plot(range(len(info['basic_topics_by_iteration'])), info['basic_topics_by_iteration'])"
   ]
  },
  {
   "cell_type": "markdown",
   "metadata": {},
   "source": [
    "Получаем информацию про полученные темы, например, сколько базисных тем был на каждой итерации запуска эксперимента."
   ]
  },
  {
   "cell_type": "code",
   "execution_count": null,
   "metadata": {
    "collapsed": true
   },
   "outputs": [],
   "source": [
    "exp.show_topics_batch()"
   ]
  },
  {
   "cell_type": "markdown",
   "metadata": {},
   "source": [
    "Смотрим на полученные темы."
   ]
  },
  {
   "cell_type": "markdown",
   "metadata": {},
   "source": [
    "Тут два варианта:"
   ]
  },
  {
   "cell_type": "code",
   "execution_count": null,
   "metadata": {
    "collapsed": true
   },
   "outputs": [],
   "source": [
    "exp.mark_bad_topics(['topic1', 'topic5', 'topic13'])"
   ]
  },
  {
   "cell_type": "markdown",
   "metadata": {},
   "source": [
    "1) Можно просто указывать, какие темы плохо интерпретируемы."
   ]
  },
  {
   "cell_type": "code",
   "execution_count": null,
   "metadata": {
    "collapsed": true
   },
   "outputs": [],
   "source": [
    "exp.mark_topics({'topic1': 4, 'topic2': 5, 'topic6': 2})"
   ]
  },
  {
   "cell_type": "markdown",
   "metadata": {},
   "source": [
    "2) Можно указывать какую-нибудь относительную градацию, например от 1 до 5 (как делал Мурат, я слышал)"
   ]
  },
  {
   "cell_type": "markdown",
   "metadata": {},
   "source": [
    "Надеюсь для всего этого сделают хороший front-end интерфейс :)"
   ]
  },
  {
   "cell_type": "code",
   "execution_count": null,
   "metadata": {
    "collapsed": true
   },
   "outputs": [],
   "source": [
    "exp.process_marks()"
   ]
  },
  {
   "cell_type": "markdown",
   "metadata": {},
   "source": [
    "Обрабатываем поставленные оценки, и в консоль выводится результат, по которому мы понимаем, должны ли мы дальше оценивать темы или этого достаточно."
   ]
  },
  {
   "cell_type": "code",
   "execution_count": null,
   "metadata": {
    "collapsed": true
   },
   "outputs": [],
   "source": [
    "exp.add_models(['<описание новых моделей>'])\n",
    "exp.run(topics_batch_size=50)"
   ]
  },
  {
   "cell_type": "markdown",
   "metadata": {},
   "source": [
    "Добавляем новые модели и проводим те же операции: смотрим на темы, оцениваем, обрабатываем."
   ]
  },
  {
   "cell_type": "code",
   "execution_count": null,
   "metadata": {
    "collapsed": true
   },
   "outputs": [],
   "source": [
    "pool.save('pool.pool')\n",
    "exp.save_topics_batch('exp1.tbatch')"
   ]
  },
  {
   "cell_type": "markdown",
   "metadata": {},
   "source": [
    "В любой момент времени можно сохранить пул и текущий батч для оценки, например, для выгрузки в фронтентд."
   ]
  }
 ],
 "metadata": {
  "kernelspec": {
   "display_name": "Python 2",
   "language": "python",
   "name": "python2"
  },
  "language_info": {
   "codemirror_mode": {
    "name": "ipython",
    "version": 2
   },
   "file_extension": ".py",
   "mimetype": "text/x-python",
   "name": "python",
   "nbconvert_exporter": "python",
   "pygments_lexer": "ipython2",
   "version": "2.7.11"
  }
 },
 "nbformat": 4,
 "nbformat_minor": 0
}
