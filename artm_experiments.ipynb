{
 "cells": [
  {
   "cell_type": "code",
   "execution_count": null,
   "metadata": {
    "collapsed": true
   },
   "outputs": [],
   "source": [
    "from artm_experiments import Experiment, Pool, ConvexHullMerger"
   ]
  },
  {
   "cell_type": "markdown",
   "metadata": {},
   "source": [
    "Глобальный пакет `artm_experiments` содержит классы эксперимента, пула, линейной оболочки, други средств для работы над данными. "
   ]
  },
  {
   "cell_type": "markdown",
   "metadata": {},
   "source": [
    "_Нужно понять, как мы конфигурировать модели для BigARTM. Я пока придумал два варианта:_\n",
    "- _В виде json'а (В этом случае можно будет потом легко оформить это все дело в виде веба)_\n",
    "- _В виде отдельного класса (Тогда будет сложнее с вебом, хотя можно конвертировать класс в json)_"
   ]
  },
  {
   "cell_type": "code",
   "execution_count": null,
   "metadata": {
    "collapsed": true
   },
   "outputs": [],
   "source": [
    "exp = Experiment(models=['<описание моделей для BigARTM>'], topics_merger=ConvexHullMerger(), topics_pool=Pool())\n",
    "exp.load('<данные для экспериментов>')\n",
    "exp.run_all(verbose=True)"
   ]
  },
  {
   "cell_type": "markdown",
   "metadata": {},
   "source": [
    "Создаем эксперимент с несколькими моделями, затем их все запускаем по очереди. В консоль может выводиться какой-нибудь лог (время работы, прогресс, сколько тем найдено)"
   ]
  },
  {
   "cell_type": "code",
   "execution_count": null,
   "metadata": {
    "collapsed": true
   },
   "outputs": [],
   "source": [
    "main_counts, secondary_counts = exp.get_topics_count_by_iteration()\n",
    "plot(range(1, len(main_count)), main_counts)"
   ]
  },
  {
   "cell_type": "markdown",
   "metadata": {},
   "source": [
    "Строим графики зависимости количество основных тем и второстепенных от модели в BigARTM."
   ]
  },
  {
   "cell_type": "code",
   "execution_count": null,
   "metadata": {
    "collapsed": false
   },
   "outputs": [],
   "source": [
    "pool = exp.get_pool()\n",
    "pool.get_main_topics().show_top_words()"
   ]
  },
  {
   "cell_type": "code",
   "execution_count": null,
   "metadata": {
    "collapsed": true
   },
   "outputs": [],
   "source": [
    "pool.get_secondary_topics().show_top_words()"
   ]
  },
  {
   "cell_type": "markdown",
   "metadata": {},
   "source": [
    "Начинаем работать с полученными темами - для этого просматриваем слова во всех темах. "
   ]
  },
  {
   "cell_type": "code",
   "execution_count": null,
   "metadata": {
    "collapsed": true
   },
   "outputs": [],
   "source": [
    "pool.get_similar('topic_10').show_top_words() #summarization"
   ]
  },
  {
   "cell_type": "markdown",
   "metadata": {},
   "source": [
    "Заметили интересную тему и смотрим похожие с ней."
   ]
  },
  {
   "cell_type": "code",
   "execution_count": null,
   "metadata": {
    "collapsed": true
   },
   "outputs": [],
   "source": [
    "pool.set_main(['topic_9', 'topic_15'])\n",
    "pool.set_secondary(['topic_5'])\n",
    "pool.remove_secondary_topics()\n",
    "pool.save('pool.pool')"
   ]
  },
  {
   "cell_type": "markdown",
   "metadata": {},
   "source": [
    "В итоге получили, что некоторые темы оказались не такимм уж и основными, а некоторые основные оказались мусорными. __Изменение пула приводит к изменению эксперимента, так как get_pool возвращает ссылку на объект пула.__\n",
    "\n",
    "Сохраняем пул тем для будущей работы с ним."
   ]
  },
  {
   "cell_type": "code",
   "execution_count": null,
   "metadata": {
    "collapsed": true
   },
   "outputs": [],
   "source": [
    "exp.add_model('<описание модели>')\n",
    "exp.add_model('<описание модели>')\n",
    "exp.run_next()\n",
    "main_topics, secondary_topics = exp.get_new_topics()\n",
    "main_topics.show_top_words()"
   ]
  },
  {
   "cell_type": "code",
   "execution_count": null,
   "metadata": {
    "collapsed": true
   },
   "outputs": [],
   "source": [
    "secondary_topics.show_top_words()"
   ]
  },
  {
   "cell_type": "markdown",
   "metadata": {},
   "source": [
    "Добавляем еще одну модель, запускаем ее и смотрим на новые темы. __`run_next` запускает только одну следующую модель, другие добавленные модели ждут своей очереди__"
   ]
  },
  {
   "cell_type": "code",
   "execution_count": null,
   "metadata": {
    "collapsed": true
   },
   "outputs": [],
   "source": [
    "exp.add_model('<описание модели>')\n",
    "exp.add_model('<описание модели>')\n",
    "exp.add_model('<описание модели>')\n",
    "exp.run_all()\n",
    "main_topics, secondary_topics = exp.get_new_topics()"
   ]
  },
  {
   "cell_type": "markdown",
   "metadata": {},
   "source": [
    "Добавим еще несколько моделей, и опять посмотрим на новые темы. __`get_new_topics` возвращает все новые темы, которые появились в результате запуска run_all()__"
   ]
  },
  {
   "cell_type": "code",
   "execution_count": null,
   "metadata": {
    "collapsed": true
   },
   "outputs": [],
   "source": [
    "exp.save('exp.exp', 'pool2.pool')"
   ]
  },
  {
   "cell_type": "markdown",
   "metadata": {},
   "source": [
    "Сохраняем эксперимент, отдельно описание моделей эксперимента и его результаты, и пул тем."
   ]
  },
  {
   "cell_type": "code",
   "execution_count": null,
   "metadata": {
    "collapsed": true
   },
   "outputs": [],
   "source": [
    "pool = Pool.load('pool.pool')\n",
    "exp = Experiment(models=['<описание новых моделей>'], topics_pool=pool)\n",
    "exp.run_all_new()\n",
    "exp.show_topics()"
   ]
  },
  {
   "cell_type": "markdown",
   "metadata": {},
   "source": [
    "Теперь возьмем старый пул тем и попробуем поделать с ним что-нибудь."
   ]
  },
  {
   "cell_type": "code",
   "execution_count": null,
   "metadata": {
    "collapsed": true
   },
   "outputs": [],
   "source": [
    "exp = Exp.load('exp.exp', 'pool2.pool')"
   ]
  },
  {
   "cell_type": "markdown",
   "metadata": {},
   "source": [
    "Поняли, что это было не самой лучшей идеей, и возвращаемся обратно к изначальному эксперименту."
   ]
  }
 ],
 "metadata": {
  "kernelspec": {
   "display_name": "Python 2",
   "language": "python",
   "name": "python2"
  },
  "language_info": {
   "codemirror_mode": {
    "name": "ipython",
    "version": 2
   },
   "file_extension": ".py",
   "mimetype": "text/x-python",
   "name": "python",
   "nbconvert_exporter": "python",
   "pygments_lexer": "ipython2",
   "version": "2.7.11"
  }
 },
 "nbformat": 4,
 "nbformat_minor": 0
}
